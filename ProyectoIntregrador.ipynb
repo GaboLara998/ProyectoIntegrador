{
  "nbformat": 4,
  "nbformat_minor": 0,
  "metadata": {
    "colab": {
      "provenance": [],
      "authorship_tag": "ABX9TyNAxvQCvD/nuSX/Bv3htBYq",
      "include_colab_link": true
    },
    "kernelspec": {
      "name": "python3",
      "display_name": "Python 3"
    },
    "language_info": {
      "name": "python"
    }
  },
  "cells": [
    {
      "cell_type": "markdown",
      "metadata": {
        "id": "view-in-github",
        "colab_type": "text"
      },
      "source": [
        "<a href=\"https://colab.research.google.com/github/GaboLara998/ProyectoIntegrador/blob/main/ProyectoIntregrador.ipynb\" target=\"_parent\"><img src=\"https://colab.research.google.com/assets/colab-badge.svg\" alt=\"Open In Colab\"/></a>"
      ]
    },
    {
      "cell_type": "markdown",
      "source": [
        "# Carga de Datos"
      ],
      "metadata": {
        "id": "3SApa2JBN0fK"
      }
    },
    {
      "cell_type": "code",
      "execution_count": 1,
      "metadata": {
        "id": "Lfqdta_6qoZJ"
      },
      "outputs": [],
      "source": [
        "# Carga de Datasets\n",
        "import pandas as pd\n",
        "import warnings\n",
        "from sklearn.preprocessing import MinMaxScaler, LabelEncoder\n",
        "from tensorflow.keras.models import Model\n",
        "from tensorflow.keras.layers import Input, Dense\n",
        "from sklearn.ensemble import IsolationForest\n",
        "from sklearn.svm import OneClassSVM\n",
        "from sklearn.metrics import precision_score, recall_score, f1_score\n",
        "from sklearn.preprocessing import label_binarize\n",
        "\n",
        "warnings.filterwarnings('ignore')\n",
        "\n",
        "from imblearn.over_sampling import SMOTE\n",
        "from sklearn.model_selection import train_test_split"
      ]
    },
    {
      "cell_type": "code",
      "source": [
        "!pip install -U imbalanced-learn"
      ],
      "metadata": {
        "colab": {
          "base_uri": "https://localhost:8080/"
        },
        "id": "DJCjfguxf2Dc",
        "outputId": "6b100977-9e99-43c3-ae68-9c0a097f9eef"
      },
      "execution_count": 2,
      "outputs": [
        {
          "output_type": "stream",
          "name": "stdout",
          "text": [
            "Requirement already satisfied: imbalanced-learn in /usr/local/lib/python3.10/dist-packages (0.12.0)\n",
            "Requirement already satisfied: numpy>=1.17.3 in /usr/local/lib/python3.10/dist-packages (from imbalanced-learn) (1.25.2)\n",
            "Requirement already satisfied: scipy>=1.5.0 in /usr/local/lib/python3.10/dist-packages (from imbalanced-learn) (1.11.4)\n",
            "Requirement already satisfied: scikit-learn>=1.0.2 in /usr/local/lib/python3.10/dist-packages (from imbalanced-learn) (1.2.2)\n",
            "Requirement already satisfied: joblib>=1.1.1 in /usr/local/lib/python3.10/dist-packages (from imbalanced-learn) (1.3.2)\n",
            "Requirement already satisfied: threadpoolctl>=2.0.0 in /usr/local/lib/python3.10/dist-packages (from imbalanced-learn) (3.3.0)\n"
          ]
        }
      ]
    },
    {
      "cell_type": "code",
      "source": [
        "#Funcion de cargar datasets\n",
        "def cargar_datos(url):\n",
        "    datos = pd.read_csv(url, encoding='latin1', skipinitialspace=True)\n",
        "    return datos\n",
        "\n",
        "# Función para eliminar columnas no deseadas\n",
        "def eliminar_columnas(datos, columnas_a_eliminar):\n",
        "    return datos.drop(columns=columnas_a_eliminar, errors='ignore')\n",
        "\n",
        "# Función para verificar y manejar valores faltantes\n",
        "def manejar_valores_faltantes(datos):\n",
        "    for columna in datos.columns:\n",
        "        if datos[columna].isnull().any():\n",
        "            datos[columna].fillna(datos[columna].mode()[0], inplace=True)\n",
        "    return datos\n",
        "\n",
        "# Función para codificar variables categóricas\n",
        "def codificar_variables_categoricas(datos, columnas_categoricas):\n",
        "    encoder = LabelEncoder()\n",
        "    for columna in columnas_categoricas:\n",
        "        datos[columna] = encoder.fit_transform(datos[columna])\n",
        "    return datos\n",
        "\n",
        "# Función para normalizar todas las características numéricas de un DataFrame\n",
        "def normalizar_caracteristicas(datos, columnas_categoricas):\n",
        "    encoder = LabelEncoder()\n",
        "    scaler = MinMaxScaler()\n",
        "\n",
        "    for columna in columnas_categoricas:\n",
        "        datos[columna] = encoder.fit_transform(datos[columna])\n",
        "\n",
        "    columnas_numericas = datos.select_dtypes(include=['float64', 'int64']).columns\n",
        "    datos[columnas_numericas] = scaler.fit_transform(datos[columnas_numericas])\n",
        "\n",
        "    return datos\n",
        "\n",
        "\n",
        "#Autoencoders\n",
        "\n",
        "def entrenar_autoencoder(features, dimensiones_intermedias=[32, 16], epochs=50, batch_size=256):\n",
        "    \"\"\"\n",
        "    Entrena un autoencoder y devuelve el modelo junto con el encoder.\n",
        "\n",
        "    Args:\n",
        "    - features: Características de entrada para entrenar el autoencoder.\n",
        "    - dimensiones_intermedias: Lista de enteros que define las dimensiones de las capas intermedias.\n",
        "    - epochs: Número de épocas para entrenar el autoencoder.\n",
        "    - batch_size: Tamaño del lote para el entrenamiento.\n",
        "\n",
        "    Returns:\n",
        "    - autoencoder: Modelo de autoencoder entrenado.\n",
        "    - encoder: Parte del encoder del autoencoder para la reducción de la dimensionalidad.\n",
        "    \"\"\"\n",
        "    input_dim = features.shape[1]\n",
        "    input_layer = Input(shape=(input_dim,))\n",
        "    encoder_layer = input_layer\n",
        "    for dim in dimensiones_intermedias:\n",
        "        encoder_layer = Dense(dim, activation=\"relu\")(encoder_layer)\n",
        "    decoder_layer = Dense(dimensiones_intermedias[-2], activation=\"relu\")(encoder_layer)\n",
        "    for dim in reversed(dimensiones_intermedias[:-1]):\n",
        "        decoder_layer = Dense(dim, activation=\"relu\")(decoder_layer)\n",
        "    decoder_layer = Dense(input_dim, activation=\"sigmoid\")(decoder_layer)\n",
        "\n",
        "    autoencoder = Model(input_layer, decoder_layer)\n",
        "    autoencoder.compile(optimizer='adam', loss='mean_squared_error')\n",
        "    autoencoder.fit(features, features, epochs=epochs, batch_size=batch_size, shuffle=True, validation_split=0.2)\n",
        "\n",
        "    encoder = Model(input_layer, encoder_layer)\n",
        "    return autoencoder, encoder\n",
        "\n",
        "def transformar_con_autoencoder(encoder, features):\n",
        "    \"\"\"\n",
        "    Transforma las características utilizando el encoder de un autoencoder entrenado.\n",
        "\n",
        "    Args:\n",
        "    - encoder: El encoder de un autoencoder.\n",
        "    - features: Características a transformar.\n",
        "\n",
        "    Returns:\n",
        "    - Características transformadas.\n",
        "    \"\"\"\n",
        "    return encoder.predict(features)"
      ],
      "metadata": {
        "id": "iFN3Im3pn0Fu"
      },
      "execution_count": 3,
      "outputs": []
    },
    {
      "cell_type": "code",
      "source": [
        "# URLs de los conjuntos de datos\n",
        "url_training = \"https://raw.githubusercontent.com/GaboLara998/ProyectoIntegrador/main/DataSet_UNSW_NB15/UNSW_NB15_training-set.csv?token=GHSAT0AAAAAACMBWAOFBU5CFZ67HIDC2XLOZO7JZMA\"\n",
        "url_testing = \"https://raw.githubusercontent.com/GaboLara998/ProyectoIntegrador/main/DataSet_UNSW_NB15/UNSW_NB15_testing-set.csv?token=GHSAT0AAAAAACMBWAOFEFKXDJN42NYN2ZDAZO7JXNA\"\n",
        "\n",
        "\n",
        "\n",
        "\n",
        "# Cargar los datos\n",
        "datos_training = cargar_datos(url_training)\n",
        "datos_testing = cargar_datos(url_testing)\n",
        "\n",
        "# Columnas sin considerar\n",
        "columnas_a_eliminar = ['id']\n",
        "# Columnas categóricas\n",
        "columnas_categoricas = ['proto', 'service', 'state', 'attack_cat']\n",
        "\n",
        "# Eliminar columnas no deseadas\n",
        "datos_training = eliminar_columnas(datos_training, columnas_a_eliminar)\n",
        "datos_testing = eliminar_columnas(datos_testing, columnas_a_eliminar)\n",
        "\n",
        "# Manejar valores faltantes\n",
        "datos_training = manejar_valores_faltantes(datos_training)\n",
        "datos_testing = manejar_valores_faltantes(datos_testing)\n",
        "\n",
        "# Preprocesar datos\n",
        "datos_training = normalizar_caracteristicas(datos_training, columnas_categoricas)\n",
        "datos_testing = normalizar_caracteristicas(datos_testing, columnas_categoricas)\n",
        "\n",
        "\n",
        "\n",
        "# Separa las características y las etiquetas en el conjunto de entrenamiento\n",
        "X = datos_training.drop('label', axis=1)\n",
        "y = datos_training['label']\n",
        "\n",
        "# Aplicar SMOTE para tratar el desequilibrio de clases en el conjunto de entrenamiento\n",
        "smote = SMOTE(random_state=42)\n",
        "X_sm, y_sm = smote.fit_resample(X, y)\n",
        "\n",
        "# Ahora proceder a entrenar tu autoencoder y otros modelos con X_sm y y_sm\n",
        "# Entrenamiento y transformación con Autoencoder\n",
        "autoencoder, encoder = entrenar_autoencoder(X_sm.to_numpy())\n",
        "features_training_reduced = transformar_con_autoencoder(encoder, X_sm.to_numpy())\n",
        "\n",
        "\n",
        "\n"
      ],
      "metadata": {
        "id": "Q6966cs3E2IP",
        "colab": {
          "base_uri": "https://localhost:8080/"
        },
        "outputId": "ff973b5b-0d25-42ba-9162-42d3602746c9"
      },
      "execution_count": 5,
      "outputs": [
        {
          "output_type": "stream",
          "name": "stdout",
          "text": [
            "Epoch 1/50\n",
            "746/746 [==============================] - 4s 4ms/step - loss: 0.0232 - val_loss: 0.0056\n",
            "Epoch 2/50\n",
            "746/746 [==============================] - 3s 4ms/step - loss: 0.0034 - val_loss: 0.0023\n",
            "Epoch 3/50\n",
            "746/746 [==============================] - 4s 5ms/step - loss: 0.0016 - val_loss: 0.0013\n",
            "Epoch 4/50\n",
            "746/746 [==============================] - 3s 4ms/step - loss: 0.0011 - val_loss: 0.0010\n",
            "Epoch 5/50\n",
            "746/746 [==============================] - 3s 4ms/step - loss: 9.3647e-04 - val_loss: 8.7319e-04\n",
            "Epoch 6/50\n",
            "746/746 [==============================] - 3s 4ms/step - loss: 8.0110e-04 - val_loss: 7.7122e-04\n",
            "Epoch 7/50\n",
            "746/746 [==============================] - 4s 5ms/step - loss: 7.0126e-04 - val_loss: 6.9989e-04\n",
            "Epoch 8/50\n",
            "746/746 [==============================] - 3s 4ms/step - loss: 6.4648e-04 - val_loss: 6.3415e-04\n",
            "Epoch 9/50\n",
            "746/746 [==============================] - 2s 3ms/step - loss: 6.0596e-04 - val_loss: 5.9346e-04\n",
            "Epoch 10/50\n",
            "746/746 [==============================] - 2s 3ms/step - loss: 5.7725e-04 - val_loss: 5.6977e-04\n",
            "Epoch 11/50\n",
            "746/746 [==============================] - 4s 5ms/step - loss: 5.5402e-04 - val_loss: 5.3722e-04\n",
            "Epoch 12/50\n",
            "746/746 [==============================] - 3s 3ms/step - loss: 5.3292e-04 - val_loss: 5.1054e-04\n",
            "Epoch 13/50\n",
            "746/746 [==============================] - 2s 3ms/step - loss: 5.1251e-04 - val_loss: 4.8838e-04\n",
            "Epoch 14/50\n",
            "746/746 [==============================] - 2s 3ms/step - loss: 4.9391e-04 - val_loss: 4.7185e-04\n",
            "Epoch 15/50\n",
            "746/746 [==============================] - 2s 3ms/step - loss: 4.6234e-04 - val_loss: 4.4686e-04\n",
            "Epoch 16/50\n",
            "746/746 [==============================] - 4s 5ms/step - loss: 4.4052e-04 - val_loss: 4.2940e-04\n",
            "Epoch 17/50\n",
            "746/746 [==============================] - 2s 3ms/step - loss: 4.2230e-04 - val_loss: 4.0632e-04\n",
            "Epoch 18/50\n",
            "746/746 [==============================] - 3s 3ms/step - loss: 3.9758e-04 - val_loss: 4.0220e-04\n",
            "Epoch 19/50\n",
            "746/746 [==============================] - 2s 3ms/step - loss: 3.8725e-04 - val_loss: 3.8065e-04\n",
            "Epoch 20/50\n",
            "746/746 [==============================] - 3s 5ms/step - loss: 3.7640e-04 - val_loss: 3.8331e-04\n",
            "Epoch 21/50\n",
            "746/746 [==============================] - 3s 4ms/step - loss: 3.6751e-04 - val_loss: 3.6919e-04\n",
            "Epoch 22/50\n",
            "746/746 [==============================] - 2s 3ms/step - loss: 3.5967e-04 - val_loss: 3.6070e-04\n",
            "Epoch 23/50\n",
            "746/746 [==============================] - 2s 3ms/step - loss: 3.5170e-04 - val_loss: 3.6014e-04\n",
            "Epoch 24/50\n",
            "746/746 [==============================] - 3s 4ms/step - loss: 3.4240e-04 - val_loss: 3.4404e-04\n",
            "Epoch 25/50\n",
            "746/746 [==============================] - 4s 5ms/step - loss: 3.2894e-04 - val_loss: 3.2186e-04\n",
            "Epoch 26/50\n",
            "746/746 [==============================] - 3s 3ms/step - loss: 3.1588e-04 - val_loss: 3.1384e-04\n",
            "Epoch 27/50\n",
            "746/746 [==============================] - 2s 3ms/step - loss: 3.0525e-04 - val_loss: 3.0191e-04\n",
            "Epoch 28/50\n",
            "746/746 [==============================] - 2s 3ms/step - loss: 2.9501e-04 - val_loss: 2.9465e-04\n",
            "Epoch 29/50\n",
            "746/746 [==============================] - 3s 4ms/step - loss: 2.8680e-04 - val_loss: 2.8901e-04\n",
            "Epoch 30/50\n",
            "746/746 [==============================] - 3s 4ms/step - loss: 2.8131e-04 - val_loss: 2.8423e-04\n",
            "Epoch 31/50\n",
            "746/746 [==============================] - 2s 3ms/step - loss: 2.7623e-04 - val_loss: 2.7881e-04\n",
            "Epoch 32/50\n",
            "746/746 [==============================] - 3s 4ms/step - loss: 2.7190e-04 - val_loss: 2.7408e-04\n",
            "Epoch 33/50\n",
            "746/746 [==============================] - 3s 4ms/step - loss: 2.6857e-04 - val_loss: 2.7159e-04\n",
            "Epoch 34/50\n",
            "746/746 [==============================] - 3s 4ms/step - loss: 2.6513e-04 - val_loss: 2.6973e-04\n",
            "Epoch 35/50\n",
            "746/746 [==============================] - 2s 3ms/step - loss: 2.6247e-04 - val_loss: 2.6642e-04\n",
            "Epoch 36/50\n",
            "746/746 [==============================] - 2s 3ms/step - loss: 2.5945e-04 - val_loss: 2.6534e-04\n",
            "Epoch 37/50\n",
            "746/746 [==============================] - 2s 3ms/step - loss: 2.5548e-04 - val_loss: 2.6370e-04\n",
            "Epoch 38/50\n",
            "746/746 [==============================] - 3s 4ms/step - loss: 2.5148e-04 - val_loss: 2.5884e-04\n",
            "Epoch 39/50\n",
            "746/746 [==============================] - 3s 4ms/step - loss: 2.4691e-04 - val_loss: 2.4905e-04\n",
            "Epoch 40/50\n",
            "746/746 [==============================] - 2s 3ms/step - loss: 2.4222e-04 - val_loss: 2.4124e-04\n",
            "Epoch 41/50\n",
            "746/746 [==============================] - 3s 3ms/step - loss: 2.3902e-04 - val_loss: 2.3794e-04\n",
            "Epoch 42/50\n",
            "746/746 [==============================] - 3s 3ms/step - loss: 2.3585e-04 - val_loss: 2.3422e-04\n",
            "Epoch 43/50\n",
            "746/746 [==============================] - 3s 5ms/step - loss: 2.3339e-04 - val_loss: 2.3538e-04\n",
            "Epoch 44/50\n",
            "746/746 [==============================] - 2s 3ms/step - loss: 2.3106e-04 - val_loss: 2.3250e-04\n",
            "Epoch 45/50\n",
            "746/746 [==============================] - 2s 3ms/step - loss: 2.2848e-04 - val_loss: 2.2809e-04\n",
            "Epoch 46/50\n",
            "746/746 [==============================] - 2s 3ms/step - loss: 2.2521e-04 - val_loss: 2.2663e-04\n",
            "Epoch 47/50\n",
            "746/746 [==============================] - 3s 4ms/step - loss: 2.2298e-04 - val_loss: 2.2189e-04\n",
            "Epoch 48/50\n",
            "746/746 [==============================] - 3s 4ms/step - loss: 2.2020e-04 - val_loss: 2.2183e-04\n",
            "Epoch 49/50\n",
            "746/746 [==============================] - 2s 3ms/step - loss: 2.1800e-04 - val_loss: 2.1741e-04\n",
            "Epoch 50/50\n",
            "746/746 [==============================] - 2s 3ms/step - loss: 2.1553e-04 - val_loss: 2.1612e-04\n",
            "7459/7459 [==============================] - 13s 2ms/step\n"
          ]
        }
      ]
    },
    {
      "cell_type": "code",
      "source": [
        "from sklearn.metrics import make_scorer, mean_squared_error\n",
        "\n",
        "# Definir la métrica de puntuación personalizada\n",
        "scorer = make_scorer(mean_squared_error)\n",
        "\n",
        "# Crear el objeto GridSearchCV con la métrica de puntuación personalizada\n",
        "grid_search = GridSearchCV(IsolationForest(random_state=42), param_grid, cv=5, scoring=scorer)\n",
        "\n",
        "# Ajustar el modelo a los datos\n",
        "grid_search.fit(features_training_reduced)\n",
        "\n",
        "# Imprimir los mejores parámetros\n",
        "print(grid_search.best_params_)\n",
        "#{'contamination': 'auto', 'n_estimators': 50}\n"
      ],
      "metadata": {
        "colab": {
          "base_uri": "https://localhost:8080/"
        },
        "id": "8ffBCNQB2dlA",
        "outputId": "3c57b19f-3f17-4a70-9c41-7b557dfccfac"
      },
      "execution_count": 8,
      "outputs": [
        {
          "output_type": "stream",
          "name": "stdout",
          "text": [
            "{'contamination': 'auto', 'n_estimators': 50}\n"
          ]
        }
      ]
    },
    {
      "cell_type": "code",
      "source": [
        "print(datos_testing.describe())\n",
        "print(datos_testing.info())"
      ],
      "metadata": {
        "id": "MbV1ynZ4oNeS"
      },
      "execution_count": null,
      "outputs": []
    },
    {
      "cell_type": "code",
      "source": [
        "print(datos_training.describe())\n",
        "print(datos_training.info())"
      ],
      "metadata": {
        "id": "zylPsB6PoXdZ"
      },
      "execution_count": null,
      "outputs": []
    },
    {
      "cell_type": "markdown",
      "source": [
        "# Implementación de Algoritmos"
      ],
      "metadata": {
        "id": "Q_1l-r43NtPg"
      }
    },
    {
      "cell_type": "code",
      "source": [],
      "metadata": {
        "id": "IaTtfoA5rBYT"
      },
      "execution_count": null,
      "outputs": []
    },
    {
      "cell_type": "code",
      "source": [
        "from sklearn.ensemble import IsolationForest\n",
        "from sklearn.svm import OneClassSVM\n",
        "\n",
        "# No considerarar la columna de etiquetas antes de entrenar el autoencoder\n",
        "features_training = datos_training.drop(columns=['label'], errors='ignore')\n",
        "features_testing = datos_testing.drop(columns=['label'], errors='ignore')\n",
        "\n",
        "# Entrenamiento y transformación con Autoencoder\n",
        "# Asegúrate de convertir DataFrame a numpy array si tu función esperar explícitamente numpy arrays\n",
        "autoencoder, encoder = entrenar_autoencoder(features_training.to_numpy())\n",
        "features_training_reduced = transformar_con_autoencoder(encoder, features_training.to_numpy())\n",
        "features_testing_reduced = transformar_con_autoencoder(encoder, features_testing.to_numpy())\n",
        "\n",
        "# Entrenamiento de Isolation Forest y One-Class SVM con características reducidas\n",
        "isolation_forest = IsolationForest(n_estimators=100, contamination='auto', random_state=42)\n",
        "isolation_forest.fit(features_training_reduced)\n",
        "\n",
        "one_class_svm = OneClassSVM(kernel='rbf', gamma='auto')\n",
        "one_class_svm.fit(features_training_reduced)"
      ],
      "metadata": {
        "colab": {
          "base_uri": "https://localhost:8080/",
          "height": 1000
        },
        "id": "2-Tl8l9p4f8d",
        "outputId": "6a330e90-1b60-41d9-b871-17c9a0e6f532"
      },
      "execution_count": 7,
      "outputs": [
        {
          "output_type": "stream",
          "name": "stdout",
          "text": [
            "Epoch 1/50\n",
            "548/548 [==============================] - 3s 4ms/step - loss: 0.0271 - val_loss: 0.0042\n",
            "Epoch 2/50\n",
            "548/548 [==============================] - 2s 3ms/step - loss: 0.0029 - val_loss: 0.0026\n",
            "Epoch 3/50\n",
            "548/548 [==============================] - 2s 3ms/step - loss: 0.0020 - val_loss: 0.0017\n",
            "Epoch 4/50\n",
            "548/548 [==============================] - 3s 6ms/step - loss: 0.0015 - val_loss: 0.0011\n",
            "Epoch 5/50\n",
            "548/548 [==============================] - 3s 5ms/step - loss: 0.0012 - val_loss: 9.1751e-04\n",
            "Epoch 6/50\n",
            "548/548 [==============================] - 2s 3ms/step - loss: 9.5680e-04 - val_loss: 7.5332e-04\n",
            "Epoch 7/50\n",
            "548/548 [==============================] - 2s 3ms/step - loss: 8.4210e-04 - val_loss: 6.5219e-04\n",
            "Epoch 8/50\n",
            "548/548 [==============================] - 2s 3ms/step - loss: 7.6232e-04 - val_loss: 5.9293e-04\n",
            "Epoch 9/50\n",
            "548/548 [==============================] - 2s 3ms/step - loss: 6.8803e-04 - val_loss: 5.0274e-04\n",
            "Epoch 10/50\n",
            "548/548 [==============================] - 2s 3ms/step - loss: 6.3598e-04 - val_loss: 4.7779e-04\n",
            "Epoch 11/50\n",
            "548/548 [==============================] - 3s 5ms/step - loss: 5.9420e-04 - val_loss: 4.6399e-04\n",
            "Epoch 12/50\n",
            "548/548 [==============================] - 2s 3ms/step - loss: 5.5793e-04 - val_loss: 4.1193e-04\n",
            "Epoch 13/50\n",
            "548/548 [==============================] - 2s 3ms/step - loss: 5.2701e-04 - val_loss: 4.0892e-04\n",
            "Epoch 14/50\n",
            "548/548 [==============================] - 2s 3ms/step - loss: 4.9843e-04 - val_loss: 4.2551e-04\n",
            "Epoch 15/50\n",
            "548/548 [==============================] - 2s 3ms/step - loss: 4.7125e-04 - val_loss: 3.9239e-04\n",
            "Epoch 16/50\n",
            "548/548 [==============================] - 2s 3ms/step - loss: 4.4669e-04 - val_loss: 4.0287e-04\n",
            "Epoch 17/50\n",
            "548/548 [==============================] - 4s 8ms/step - loss: 4.2873e-04 - val_loss: 3.5418e-04\n",
            "Epoch 18/50\n",
            "548/548 [==============================] - 2s 3ms/step - loss: 4.1359e-04 - val_loss: 3.4620e-04\n",
            "Epoch 19/50\n",
            "548/548 [==============================] - 2s 3ms/step - loss: 3.9888e-04 - val_loss: 3.2812e-04\n",
            "Epoch 20/50\n",
            "548/548 [==============================] - 2s 3ms/step - loss: 3.8266e-04 - val_loss: 3.3929e-04\n",
            "Epoch 21/50\n",
            "548/548 [==============================] - 2s 3ms/step - loss: 3.6666e-04 - val_loss: 3.0987e-04\n",
            "Epoch 22/50\n",
            "548/548 [==============================] - 2s 4ms/step - loss: 3.4983e-04 - val_loss: 3.3296e-04\n",
            "Epoch 23/50\n",
            "548/548 [==============================] - 3s 5ms/step - loss: 3.3832e-04 - val_loss: 3.0935e-04\n",
            "Epoch 24/50\n",
            "548/548 [==============================] - 2s 3ms/step - loss: 3.2793e-04 - val_loss: 3.4221e-04\n",
            "Epoch 25/50\n",
            "548/548 [==============================] - 2s 3ms/step - loss: 3.1386e-04 - val_loss: 3.1482e-04\n",
            "Epoch 26/50\n",
            "548/548 [==============================] - 2s 3ms/step - loss: 3.0284e-04 - val_loss: 3.2981e-04\n",
            "Epoch 27/50\n",
            "548/548 [==============================] - 2s 3ms/step - loss: 2.9590e-04 - val_loss: 2.6874e-04\n",
            "Epoch 28/50\n",
            "548/548 [==============================] - 2s 3ms/step - loss: 2.9032e-04 - val_loss: 3.0299e-04\n",
            "Epoch 29/50\n",
            "548/548 [==============================] - 3s 5ms/step - loss: 2.8538e-04 - val_loss: 2.9929e-04\n",
            "Epoch 30/50\n",
            "548/548 [==============================] - 2s 3ms/step - loss: 2.7979e-04 - val_loss: 2.9499e-04\n",
            "Epoch 31/50\n",
            "548/548 [==============================] - 2s 3ms/step - loss: 2.7602e-04 - val_loss: 3.0129e-04\n",
            "Epoch 32/50\n",
            "548/548 [==============================] - 2s 4ms/step - loss: 2.7098e-04 - val_loss: 2.7271e-04\n",
            "Epoch 33/50\n",
            "548/548 [==============================] - 2s 3ms/step - loss: 2.6405e-04 - val_loss: 2.7616e-04\n",
            "Epoch 34/50\n",
            "548/548 [==============================] - 2s 3ms/step - loss: 2.5567e-04 - val_loss: 2.8903e-04\n",
            "Epoch 35/50\n",
            "548/548 [==============================] - 2s 4ms/step - loss: 2.5091e-04 - val_loss: 2.6941e-04\n",
            "Epoch 36/50\n",
            "548/548 [==============================] - 2s 4ms/step - loss: 2.4684e-04 - val_loss: 2.7857e-04\n",
            "Epoch 37/50\n",
            "548/548 [==============================] - 2s 3ms/step - loss: 2.4353e-04 - val_loss: 2.5308e-04\n",
            "Epoch 38/50\n",
            "548/548 [==============================] - 2s 3ms/step - loss: 2.4102e-04 - val_loss: 2.6391e-04\n",
            "Epoch 39/50\n",
            "548/548 [==============================] - 2s 3ms/step - loss: 2.3722e-04 - val_loss: 2.5969e-04\n",
            "Epoch 40/50\n",
            "548/548 [==============================] - 2s 3ms/step - loss: 2.3508e-04 - val_loss: 2.4920e-04\n",
            "Epoch 41/50\n",
            "548/548 [==============================] - 2s 3ms/step - loss: 2.3262e-04 - val_loss: 2.5770e-04\n",
            "Epoch 42/50\n",
            "548/548 [==============================] - 3s 5ms/step - loss: 2.3034e-04 - val_loss: 2.3229e-04\n",
            "Epoch 43/50\n",
            "548/548 [==============================] - 2s 4ms/step - loss: 2.2819e-04 - val_loss: 2.3992e-04\n",
            "Epoch 44/50\n",
            "548/548 [==============================] - 2s 3ms/step - loss: 2.2495e-04 - val_loss: 2.4571e-04\n",
            "Epoch 45/50\n",
            "548/548 [==============================] - 2s 3ms/step - loss: 2.2274e-04 - val_loss: 2.9376e-04\n",
            "Epoch 46/50\n",
            "548/548 [==============================] - 2s 3ms/step - loss: 2.2122e-04 - val_loss: 2.5614e-04\n",
            "Epoch 47/50\n",
            "548/548 [==============================] - 2s 3ms/step - loss: 2.1866e-04 - val_loss: 2.4205e-04\n",
            "Epoch 48/50\n",
            "548/548 [==============================] - 3s 5ms/step - loss: 2.1605e-04 - val_loss: 2.4826e-04\n",
            "Epoch 49/50\n",
            "548/548 [==============================] - 2s 3ms/step - loss: 2.1530e-04 - val_loss: 2.3945e-04\n",
            "Epoch 50/50\n",
            "548/548 [==============================] - 2s 3ms/step - loss: 2.1320e-04 - val_loss: 2.6615e-04\n",
            "5480/5480 [==============================] - 9s 2ms/step\n",
            "2573/2573 [==============================] - 4s 2ms/step\n"
          ]
        },
        {
          "output_type": "execute_result",
          "data": {
            "text/plain": [
              "OneClassSVM(gamma='auto')"
            ],
            "text/html": [
              "<style>#sk-container-id-1 {color: black;background-color: white;}#sk-container-id-1 pre{padding: 0;}#sk-container-id-1 div.sk-toggleable {background-color: white;}#sk-container-id-1 label.sk-toggleable__label {cursor: pointer;display: block;width: 100%;margin-bottom: 0;padding: 0.3em;box-sizing: border-box;text-align: center;}#sk-container-id-1 label.sk-toggleable__label-arrow:before {content: \"▸\";float: left;margin-right: 0.25em;color: #696969;}#sk-container-id-1 label.sk-toggleable__label-arrow:hover:before {color: black;}#sk-container-id-1 div.sk-estimator:hover label.sk-toggleable__label-arrow:before {color: black;}#sk-container-id-1 div.sk-toggleable__content {max-height: 0;max-width: 0;overflow: hidden;text-align: left;background-color: #f0f8ff;}#sk-container-id-1 div.sk-toggleable__content pre {margin: 0.2em;color: black;border-radius: 0.25em;background-color: #f0f8ff;}#sk-container-id-1 input.sk-toggleable__control:checked~div.sk-toggleable__content {max-height: 200px;max-width: 100%;overflow: auto;}#sk-container-id-1 input.sk-toggleable__control:checked~label.sk-toggleable__label-arrow:before {content: \"▾\";}#sk-container-id-1 div.sk-estimator input.sk-toggleable__control:checked~label.sk-toggleable__label {background-color: #d4ebff;}#sk-container-id-1 div.sk-label input.sk-toggleable__control:checked~label.sk-toggleable__label {background-color: #d4ebff;}#sk-container-id-1 input.sk-hidden--visually {border: 0;clip: rect(1px 1px 1px 1px);clip: rect(1px, 1px, 1px, 1px);height: 1px;margin: -1px;overflow: hidden;padding: 0;position: absolute;width: 1px;}#sk-container-id-1 div.sk-estimator {font-family: monospace;background-color: #f0f8ff;border: 1px dotted black;border-radius: 0.25em;box-sizing: border-box;margin-bottom: 0.5em;}#sk-container-id-1 div.sk-estimator:hover {background-color: #d4ebff;}#sk-container-id-1 div.sk-parallel-item::after {content: \"\";width: 100%;border-bottom: 1px solid gray;flex-grow: 1;}#sk-container-id-1 div.sk-label:hover label.sk-toggleable__label {background-color: #d4ebff;}#sk-container-id-1 div.sk-serial::before {content: \"\";position: absolute;border-left: 1px solid gray;box-sizing: border-box;top: 0;bottom: 0;left: 50%;z-index: 0;}#sk-container-id-1 div.sk-serial {display: flex;flex-direction: column;align-items: center;background-color: white;padding-right: 0.2em;padding-left: 0.2em;position: relative;}#sk-container-id-1 div.sk-item {position: relative;z-index: 1;}#sk-container-id-1 div.sk-parallel {display: flex;align-items: stretch;justify-content: center;background-color: white;position: relative;}#sk-container-id-1 div.sk-item::before, #sk-container-id-1 div.sk-parallel-item::before {content: \"\";position: absolute;border-left: 1px solid gray;box-sizing: border-box;top: 0;bottom: 0;left: 50%;z-index: -1;}#sk-container-id-1 div.sk-parallel-item {display: flex;flex-direction: column;z-index: 1;position: relative;background-color: white;}#sk-container-id-1 div.sk-parallel-item:first-child::after {align-self: flex-end;width: 50%;}#sk-container-id-1 div.sk-parallel-item:last-child::after {align-self: flex-start;width: 50%;}#sk-container-id-1 div.sk-parallel-item:only-child::after {width: 0;}#sk-container-id-1 div.sk-dashed-wrapped {border: 1px dashed gray;margin: 0 0.4em 0.5em 0.4em;box-sizing: border-box;padding-bottom: 0.4em;background-color: white;}#sk-container-id-1 div.sk-label label {font-family: monospace;font-weight: bold;display: inline-block;line-height: 1.2em;}#sk-container-id-1 div.sk-label-container {text-align: center;}#sk-container-id-1 div.sk-container {/* jupyter's `normalize.less` sets `[hidden] { display: none; }` but bootstrap.min.css set `[hidden] { display: none !important; }` so we also need the `!important` here to be able to override the default hidden behavior on the sphinx rendered scikit-learn.org. See: https://github.com/scikit-learn/scikit-learn/issues/21755 */display: inline-block !important;position: relative;}#sk-container-id-1 div.sk-text-repr-fallback {display: none;}</style><div id=\"sk-container-id-1\" class=\"sk-top-container\"><div class=\"sk-text-repr-fallback\"><pre>OneClassSVM(gamma=&#x27;auto&#x27;)</pre><b>In a Jupyter environment, please rerun this cell to show the HTML representation or trust the notebook. <br />On GitHub, the HTML representation is unable to render, please try loading this page with nbviewer.org.</b></div><div class=\"sk-container\" hidden><div class=\"sk-item\"><div class=\"sk-estimator sk-toggleable\"><input class=\"sk-toggleable__control sk-hidden--visually\" id=\"sk-estimator-id-1\" type=\"checkbox\" checked><label for=\"sk-estimator-id-1\" class=\"sk-toggleable__label sk-toggleable__label-arrow\">OneClassSVM</label><div class=\"sk-toggleable__content\"><pre>OneClassSVM(gamma=&#x27;auto&#x27;)</pre></div></div></div></div></div>"
            ]
          },
          "metadata": {},
          "execution_count": 7
        }
      ]
    },
    {
      "cell_type": "markdown",
      "source": [
        "# Preprocesamiento de Datos"
      ],
      "metadata": {
        "id": "VPUryMfLXXdC"
      }
    },
    {
      "cell_type": "code",
      "source": [
        "# Entrenamiento de Isolation Forest y One-Class SVM con características reducidas\n",
        "isolation_forest = IsolationForest(n_estimators=50, contamination='auto', random_state=42)\n",
        "isolation_forest.fit(features_training_reduced)\n",
        "\n",
        "one_class_svm = OneClassSVM(kernel='rbf', gamma='auto')\n",
        "one_class_svm.fit(features_training_reduced)\n",
        "\n",
        "# Transformación de los datos de prueba\n",
        "features_testing_reduced = transformar_con_autoencoder(encoder, datos_testing.drop('label', axis=1).to_numpy())\n",
        "\n",
        "# Predicciones para los modelos\n",
        "predictions_isolation_forest = isolation_forest.predict(features_testing_reduced)\n",
        "predictions_one_class_svm = one_class_svm.predict(features_testing_reduced)\n",
        "\n",
        "# Convertir las predicciones de -1, 1 a 0, 1\n",
        "predictions_isolation_forest_binarized = (predictions_isolation_forest < 0).astype(int)\n",
        "predictions_one_class_svm_binarized = (predictions_one_class_svm < 0).astype(int)\n",
        "\n",
        "# Etiquetas de prueba reales\n",
        "labels_testing_binarized = label_binarize(datos_testing['label'], classes=[0, 1]).ravel()\n",
        "\n",
        "# Cálculo de métricas\n",
        "precision_if = precision_score(labels_testing_binarized, predictions_isolation_forest_binarized)\n",
        "recall_if = recall_score(labels_testing_binarized, predictions_isolation_forest_binarized)\n",
        "f1_score_if = f1_score(labels_testing_binarized, predictions_isolation_forest_binarized)\n",
        "\n",
        "precision_svm = precision_score(labels_testing_binarized, predictions_one_class_svm_binarized)\n",
        "recall_svm = recall_score(labels_testing_binarized, predictions_one_class_svm_binarized)\n",
        "f1_score_svm = f1_score(labels_testing_binarized, predictions_one_class_svm_binarized)\n",
        "\n",
        "print(f\"Isolation Forest - Precisión: {precision_if}, Recall: {recall_if}, F1-Score: {f1_score_if}\")\n",
        "print(f\"One-Class SVM - Precisión: {precision_svm}, Recall: {recall_svm}, F1-Score: {f1_score_svm}\")\n"
      ],
      "metadata": {
        "colab": {
          "base_uri": "https://localhost:8080/"
        },
        "id": "q_iAvvV_XkzH",
        "outputId": "137c90a1-e598-4748-b6f0-6284b1b77a04"
      },
      "execution_count": 9,
      "outputs": [
        {
          "output_type": "stream",
          "name": "stdout",
          "text": [
            "2573/2573 [==============================] - 4s 1ms/step\n",
            "Isolation Forest - Precisión: 0.4643794343473613, Recall: 0.10540015882820084, F1-Score: 0.17180561298790026\n",
            "One-Class SVM - Precisión: 0.6602087592145203, Recall: 0.940417365216624, F1-Score: 0.7757861406318243\n"
          ]
        }
      ]
    },
    {
      "cell_type": "code",
      "source": [],
      "metadata": {
        "id": "ZdiepVonqGPD"
      },
      "execution_count": null,
      "outputs": []
    },
    {
      "cell_type": "code",
      "source": [
        "# Revisar balanceo de datos\n",
        "# Random Forest y normalizacion de datos\n",
        "# seleccion de mejores caracteristicas\n",
        "# extraer las caracteristicas\n",
        "# Comparar efectividad\n",
        "\n",
        "\n",
        "#Mejorar resultados usar busqeuda de cuadricula o busqueda aleatorioa.\n",
        "# seleccionar caracteristicas como el PCA\n",
        "\n",
        "#Balanceo de Clases\n"
      ],
      "metadata": {
        "id": "W427T-miE_-N"
      },
      "execution_count": null,
      "outputs": []
    },
    {
      "cell_type": "code",
      "source": [],
      "metadata": {
        "id": "ZvvbFEFqA2HB"
      },
      "execution_count": null,
      "outputs": []
    },
    {
      "cell_type": "code",
      "source": [
        "#Isolation Forest\n",
        "#from sklearn.ensemble import IsolationForest\n",
        "\n",
        "# Instancia del modelo Isolation Forest\n",
        "#isolation_forest = IsolationForest(n_estimators=100, contamination='auto', random_state=42)\n",
        "\n",
        "# Entrenamiento del modelo con los datos de entrenamiento (sin incluir la etiqueta)\n",
        "# Asumiendo que 'label' es la columna de etiquetas y ha sido removida de features_training_normalized\n",
        "#isolation_forest.fit(datos_training)\n",
        "\n",
        "\n",
        "#OneClassSVM\n",
        "#from sklearn.svm import OneClassSVM\n",
        "\n",
        "# Instancia del modelo One-Class SVM\n",
        "#one_class_svm = OneClassSVM(kernel='rbf', gamma='auto')\n",
        "\n",
        "# Entrenamiento del modelo con los datos de entrenamiento\n",
        "#one_class_svm.fit(datos_training)"
      ],
      "metadata": {
        "id": "hhL14ejYNqox"
      },
      "execution_count": null,
      "outputs": []
    }
  ]
}