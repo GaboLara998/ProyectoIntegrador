{
  "nbformat": 4,
  "nbformat_minor": 0,
  "metadata": {
    "colab": {
      "provenance": [],
      "collapsed_sections": [
        "dsR37VJRcFWh",
        "Q_1l-r43NtPg",
        "VPUryMfLXXdC"
      ],
      "gpuType": "T4",
      "authorship_tag": "ABX9TyNzRTj7eAjXDqS2ASIJAFwb",
      "include_colab_link": true
    },
    "kernelspec": {
      "name": "python3",
      "display_name": "Python 3"
    },
    "language_info": {
      "name": "python"
    }
  },
  "cells": [
    {
      "cell_type": "markdown",
      "metadata": {
        "id": "view-in-github",
        "colab_type": "text"
      },
      "source": [
        "<a href=\"https://colab.research.google.com/github/GaboLara998/ProyectoIntegrador/blob/main/ProyectoIntregrador.ipynb\" target=\"_parent\"><img src=\"https://colab.research.google.com/assets/colab-badge.svg\" alt=\"Open In Colab\"/></a>"
      ]
    },
    {
      "cell_type": "markdown",
      "source": [
        "# Carga de Datos"
      ],
      "metadata": {
        "id": "3SApa2JBN0fK"
      }
    },
    {
      "cell_type": "code",
      "execution_count": null,
      "metadata": {
        "id": "Lfqdta_6qoZJ"
      },
      "outputs": [],
      "source": [
        "# Carga de Datasets\n",
        "import pandas as pd\n",
        "import warnings\n",
        "from sklearn.preprocessing import MinMaxScaler, LabelEncoder\n",
        "from tensorflow.keras.models import Model\n",
        "from tensorflow.keras.layers import Input, Dense\n",
        "from sklearn.ensemble import IsolationForest\n",
        "from sklearn.svm import OneClassSVM\n",
        "from sklearn.metrics import precision_score, recall_score, f1_score\n",
        "from sklearn.preprocessing import label_binarize\n",
        "\n",
        "warnings.filterwarnings('ignore')\n",
        "\n",
        "from imblearn.over_sampling import SMOTE\n",
        "from sklearn.model_selection import train_test_split"
      ]
    },
    {
      "cell_type": "code",
      "source": [
        "!pip install -U imbalanced-learn"
      ],
      "metadata": {
        "id": "DJCjfguxf2Dc"
      },
      "execution_count": null,
      "outputs": []
    },
    {
      "cell_type": "code",
      "source": [
        "#Funcion de cargar datasets\n",
        "def cargar_datos(url):\n",
        "    datos = pd.read_csv(url, encoding='latin1', skipinitialspace=True)\n",
        "    return datos\n",
        "\n",
        "# Función para eliminar columnas no deseadas\n",
        "def eliminar_columnas(datos, columnas_a_eliminar):\n",
        "    return datos.drop(columns=columnas_a_eliminar, errors='ignore')\n",
        "\n",
        "\n",
        "# Función para codificar variables categóricas usando LabelEncoders\n",
        "def codificar_variables_categoricas(datos, columnas_categoricas):\n",
        "    encoder = LabelEncoder()\n",
        "    for columna in columnas_categoricas:\n",
        "        datos[columna] = encoder.fit_transform(datos[columna])\n",
        "    return datos\n",
        "\n",
        "# Función para normalizar todas las características numéricas de un DataFrame\n",
        "def normalizar_caracteristicas(datos, columnas_categoricas):\n",
        "    encoder = LabelEncoder()\n",
        "    scaler = MinMaxScaler()\n",
        "    for columna in columnas_categoricas:\n",
        "        datos[columna] = encoder.fit_transform(datos[columna])\n",
        "    columnas_numericas = datos.select_dtypes(include=['float64', 'int64']).columns\n",
        "    datos[columnas_numericas] = scaler.fit_transform(datos[columnas_numericas])\n",
        "\n",
        "    return datos\n",
        "\n",
        "\n",
        "#Autoencoders\n",
        "\n",
        "def entrenar_autoencoder(features, dimensiones_intermedias=[32, 16], epochs=50, batch_size=256):\n",
        "    \"\"\"\n",
        "    Entrena un autoencoder y devuelve el modelo junto con el encoder.\n",
        "\n",
        "    Args:\n",
        "    - features: Características de entrada para entrenar el autoencoder.\n",
        "    - dimensiones_intermedias: Lista de enteros que define las dimensiones de las capas intermedias.\n",
        "    - epochs: Número de épocas para entrenar el autoencoder.\n",
        "    - batch_size: Tamaño del lote para el entrenamiento.\n",
        "\n",
        "    Returns:\n",
        "    - autoencoder: Modelo de autoencoder entrenado.\n",
        "    - encoder: Parte del encoder del autoencoder para la reducción de la dimensionalidad.\n",
        "    \"\"\"\n",
        "    input_dim = features.shape[1]\n",
        "    input_layer = Input(shape=(input_dim,))\n",
        "    encoder_layer = input_layer\n",
        "    for dim in dimensiones_intermedias:\n",
        "        encoder_layer = Dense(dim, activation=\"relu\")(encoder_layer)\n",
        "    decoder_layer = Dense(dimensiones_intermedias[-2], activation=\"relu\")(encoder_layer)\n",
        "    for dim in reversed(dimensiones_intermedias[:-1]):\n",
        "        decoder_layer = Dense(dim, activation=\"relu\")(decoder_layer)\n",
        "    decoder_layer = Dense(input_dim, activation=\"sigmoid\")(decoder_layer)\n",
        "\n",
        "    autoencoder = Model(input_layer, decoder_layer)\n",
        "    autoencoder.compile(optimizer='adam', loss='mean_squared_error')\n",
        "    autoencoder.fit(features, features, epochs=epochs, batch_size=batch_size, shuffle=True, validation_split=0.2)\n",
        "\n",
        "    encoder = Model(input_layer, encoder_layer)\n",
        "    return autoencoder, encoder\n",
        "\n",
        "def transformar_con_autoencoder(encoder, features):\n",
        "    \"\"\"\n",
        "    Transforma las características utilizando el encoder de un autoencoder entrenado.\n",
        "\n",
        "    Args:\n",
        "    - encoder: El encoder de un autoencoder.\n",
        "    - features: Características a transformar.\n",
        "\n",
        "    Returns:\n",
        "    - Características transformadas.\n",
        "    \"\"\"\n",
        "    return encoder.predict(features)"
      ],
      "metadata": {
        "id": "iFN3Im3pn0Fu"
      },
      "execution_count": null,
      "outputs": []
    },
    {
      "cell_type": "markdown",
      "source": [
        "# Pruebas"
      ],
      "metadata": {
        "id": "dsR37VJRcFWh"
      }
    },
    {
      "cell_type": "code",
      "source": [
        "# URLs de los conjuntos de datos\n",
        "url_training = \"https://raw.githubusercontent.com/GaboLara998/ProyectoIntegrador/main/DataSet_UNSW_NB15/UNSW_NB15_training-set.csv?token=GHSAT0AAAAAACMBWAOFBU5CFZ67HIDC2XLOZO7JZMA\"\n",
        "url_testing = \"https://raw.githubusercontent.com/GaboLara998/ProyectoIntegrador/main/DataSet_UNSW_NB15/UNSW_NB15_testing-set.csv?token=GHSAT0AAAAAACMBWAOFEFKXDJN42NYN2ZDAZO7JXNA\"\n",
        "\n",
        "\n",
        "\n",
        "\n",
        "# Cargar los datos\n",
        "datos_training = cargar_datos(url_training)\n",
        "datos_testing = cargar_datos(url_testing)\n",
        "\n",
        "# Columnas sin considerar\n",
        "columnas_a_eliminar = ['id']\n",
        "# Columnas categóricas\n",
        "columnas_categoricas = ['proto', 'service', 'state', 'attack_cat']\n",
        "\n",
        "# Eliminar columnas no deseadas\n",
        "datos_training = eliminar_columnas(datos_training, columnas_a_eliminar)\n",
        "datos_testing = eliminar_columnas(datos_testing, columnas_a_eliminar)\n",
        "\n",
        "# Manejar valores faltantes\n",
        "#datos_training = manejar_valores_faltantes(datos_training)\n",
        "#datos_testing = manejar_valores_faltantes(datos_testing)\n",
        "\n",
        "# Preprocesar datos\n",
        "datos_training = normalizar_caracteristicas(datos_training, columnas_categoricas)\n",
        "datos_testing = normalizar_caracteristicas(datos_testing, columnas_categoricas)\n",
        "\n",
        "\n",
        "\n",
        "# Separa las características y las etiquetas en el conjunto de entrenamiento\n",
        "X = datos_training.drop('label', axis=1)\n",
        "y = datos_training['label']\n",
        "\n",
        "# Aplicar SMOTE para tratar el desequilibrio de clases en el conjunto de entrenamiento\n",
        "smote = SMOTE(random_state=42)\n",
        "X_sm, y_sm = smote.fit_resample(X, y)\n",
        "\n",
        "# Ahora proceder a entrenar tu autoencoder y otros modelos con X_sm y y_sm\n",
        "# Entrenamiento y transformación con Autoencoder\n",
        "autoencoder, encoder = entrenar_autoencoder(X_sm.to_numpy())\n",
        "features_training_reduced = transformar_con_autoencoder(encoder, X_sm.to_numpy())\n",
        "\n",
        "\n",
        "\n"
      ],
      "metadata": {
        "id": "Q6966cs3E2IP",
        "colab": {
          "base_uri": "https://localhost:8080/",
          "height": 370
        },
        "outputId": "b27e86a8-8ab0-436f-8120-289c98c6cab8"
      },
      "execution_count": null,
      "outputs": [
        {
          "ename": "KeyboardInterrupt",
          "evalue": "",
          "output_type": "error",
          "traceback": [
            "\u001b[0;31m---------------------------------------------------------------------------\u001b[0m",
            "\u001b[0;31mKeyboardInterrupt\u001b[0m                         Traceback (most recent call last)",
            "\u001b[0;32m<ipython-input-20-0c1199f2bc6d>\u001b[0m in \u001b[0;36m<cell line: 9>\u001b[0;34m()\u001b[0m\n\u001b[1;32m      7\u001b[0m \u001b[0;34m\u001b[0m\u001b[0m\n\u001b[1;32m      8\u001b[0m \u001b[0;31m# Cargar los datos\u001b[0m\u001b[0;34m\u001b[0m\u001b[0;34m\u001b[0m\u001b[0m\n\u001b[0;32m----> 9\u001b[0;31m \u001b[0mdatos_training\u001b[0m \u001b[0;34m=\u001b[0m \u001b[0mcargar_datos\u001b[0m\u001b[0;34m(\u001b[0m\u001b[0murl_training\u001b[0m\u001b[0;34m)\u001b[0m\u001b[0;34m\u001b[0m\u001b[0;34m\u001b[0m\u001b[0m\n\u001b[0m\u001b[1;32m     10\u001b[0m \u001b[0mdatos_testing\u001b[0m \u001b[0;34m=\u001b[0m \u001b[0mcargar_datos\u001b[0m\u001b[0;34m(\u001b[0m\u001b[0murl_testing\u001b[0m\u001b[0;34m)\u001b[0m\u001b[0;34m\u001b[0m\u001b[0;34m\u001b[0m\u001b[0m\n\u001b[1;32m     11\u001b[0m \u001b[0;34m\u001b[0m\u001b[0m\n",
            "\u001b[0;32m<ipython-input-19-e114a765d505>\u001b[0m in \u001b[0;36mcargar_datos\u001b[0;34m(url)\u001b[0m\n\u001b[1;32m      1\u001b[0m \u001b[0;31m#Funcion de cargar datasets\u001b[0m\u001b[0;34m\u001b[0m\u001b[0;34m\u001b[0m\u001b[0m\n\u001b[1;32m      2\u001b[0m \u001b[0;32mdef\u001b[0m \u001b[0mcargar_datos\u001b[0m\u001b[0;34m(\u001b[0m\u001b[0murl\u001b[0m\u001b[0;34m)\u001b[0m\u001b[0;34m:\u001b[0m\u001b[0;34m\u001b[0m\u001b[0;34m\u001b[0m\u001b[0m\n\u001b[0;32m----> 3\u001b[0;31m     \u001b[0mdatos\u001b[0m \u001b[0;34m=\u001b[0m \u001b[0mpd\u001b[0m\u001b[0;34m.\u001b[0m\u001b[0mread_csv\u001b[0m\u001b[0;34m(\u001b[0m\u001b[0murl\u001b[0m\u001b[0;34m,\u001b[0m \u001b[0mencoding\u001b[0m\u001b[0;34m=\u001b[0m\u001b[0;34m'latin1'\u001b[0m\u001b[0;34m,\u001b[0m \u001b[0mskipinitialspace\u001b[0m\u001b[0;34m=\u001b[0m\u001b[0;32mTrue\u001b[0m\u001b[0;34m)\u001b[0m\u001b[0;34m\u001b[0m\u001b[0;34m\u001b[0m\u001b[0m\n\u001b[0m\u001b[1;32m      4\u001b[0m     \u001b[0;32mreturn\u001b[0m \u001b[0mdatos\u001b[0m\u001b[0;34m\u001b[0m\u001b[0;34m\u001b[0m\u001b[0m\n\u001b[1;32m      5\u001b[0m \u001b[0;34m\u001b[0m\u001b[0m\n",
            "\u001b[0;32m/usr/local/lib/python3.10/dist-packages/pandas/util/_decorators.py\u001b[0m in \u001b[0;36mwrapper\u001b[0;34m(*args, **kwargs)\u001b[0m\n\u001b[1;32m    209\u001b[0m                 \u001b[0;32melse\u001b[0m\u001b[0;34m:\u001b[0m\u001b[0;34m\u001b[0m\u001b[0;34m\u001b[0m\u001b[0m\n\u001b[1;32m    210\u001b[0m                     \u001b[0mkwargs\u001b[0m\u001b[0;34m[\u001b[0m\u001b[0mnew_arg_name\u001b[0m\u001b[0;34m]\u001b[0m \u001b[0;34m=\u001b[0m \u001b[0mnew_arg_value\u001b[0m\u001b[0;34m\u001b[0m\u001b[0;34m\u001b[0m\u001b[0m\n\u001b[0;32m--> 211\u001b[0;31m             \u001b[0;32mreturn\u001b[0m \u001b[0mfunc\u001b[0m\u001b[0;34m(\u001b[0m\u001b[0;34m*\u001b[0m\u001b[0margs\u001b[0m\u001b[0;34m,\u001b[0m \u001b[0;34m**\u001b[0m\u001b[0mkwargs\u001b[0m\u001b[0;34m)\u001b[0m\u001b[0;34m\u001b[0m\u001b[0;34m\u001b[0m\u001b[0m\n\u001b[0m\u001b[1;32m    212\u001b[0m \u001b[0;34m\u001b[0m\u001b[0m\n\u001b[1;32m    213\u001b[0m         \u001b[0;32mreturn\u001b[0m \u001b[0mcast\u001b[0m\u001b[0;34m(\u001b[0m\u001b[0mF\u001b[0m\u001b[0;34m,\u001b[0m \u001b[0mwrapper\u001b[0m\u001b[0;34m)\u001b[0m\u001b[0;34m\u001b[0m\u001b[0;34m\u001b[0m\u001b[0m\n",
            "\u001b[0;32m/usr/local/lib/python3.10/dist-packages/pandas/util/_decorators.py\u001b[0m in \u001b[0;36mwrapper\u001b[0;34m(*args, **kwargs)\u001b[0m\n\u001b[1;32m    329\u001b[0m                     \u001b[0mstacklevel\u001b[0m\u001b[0;34m=\u001b[0m\u001b[0mfind_stack_level\u001b[0m\u001b[0;34m(\u001b[0m\u001b[0;34m)\u001b[0m\u001b[0;34m,\u001b[0m\u001b[0;34m\u001b[0m\u001b[0;34m\u001b[0m\u001b[0m\n\u001b[1;32m    330\u001b[0m                 )\n\u001b[0;32m--> 331\u001b[0;31m             \u001b[0;32mreturn\u001b[0m \u001b[0mfunc\u001b[0m\u001b[0;34m(\u001b[0m\u001b[0;34m*\u001b[0m\u001b[0margs\u001b[0m\u001b[0;34m,\u001b[0m \u001b[0;34m**\u001b[0m\u001b[0mkwargs\u001b[0m\u001b[0;34m)\u001b[0m\u001b[0;34m\u001b[0m\u001b[0;34m\u001b[0m\u001b[0m\n\u001b[0m\u001b[1;32m    332\u001b[0m \u001b[0;34m\u001b[0m\u001b[0m\n\u001b[1;32m    333\u001b[0m         \u001b[0;31m# error: \"Callable[[VarArg(Any), KwArg(Any)], Any]\" has no\u001b[0m\u001b[0;34m\u001b[0m\u001b[0;34m\u001b[0m\u001b[0m\n",
            "\u001b[0;32m/usr/local/lib/python3.10/dist-packages/pandas/io/parsers/readers.py\u001b[0m in \u001b[0;36mread_csv\u001b[0;34m(filepath_or_buffer, sep, delimiter, header, names, index_col, usecols, squeeze, prefix, mangle_dupe_cols, dtype, engine, converters, true_values, false_values, skipinitialspace, skiprows, skipfooter, nrows, na_values, keep_default_na, na_filter, verbose, skip_blank_lines, parse_dates, infer_datetime_format, keep_date_col, date_parser, dayfirst, cache_dates, iterator, chunksize, compression, thousands, decimal, lineterminator, quotechar, quoting, doublequote, escapechar, comment, encoding, encoding_errors, dialect, error_bad_lines, warn_bad_lines, on_bad_lines, delim_whitespace, low_memory, memory_map, float_precision, storage_options)\u001b[0m\n\u001b[1;32m    948\u001b[0m     \u001b[0mkwds\u001b[0m\u001b[0;34m.\u001b[0m\u001b[0mupdate\u001b[0m\u001b[0;34m(\u001b[0m\u001b[0mkwds_defaults\u001b[0m\u001b[0;34m)\u001b[0m\u001b[0;34m\u001b[0m\u001b[0;34m\u001b[0m\u001b[0m\n\u001b[1;32m    949\u001b[0m \u001b[0;34m\u001b[0m\u001b[0m\n\u001b[0;32m--> 950\u001b[0;31m     \u001b[0;32mreturn\u001b[0m \u001b[0m_read\u001b[0m\u001b[0;34m(\u001b[0m\u001b[0mfilepath_or_buffer\u001b[0m\u001b[0;34m,\u001b[0m \u001b[0mkwds\u001b[0m\u001b[0;34m)\u001b[0m\u001b[0;34m\u001b[0m\u001b[0;34m\u001b[0m\u001b[0m\n\u001b[0m\u001b[1;32m    951\u001b[0m \u001b[0;34m\u001b[0m\u001b[0m\n\u001b[1;32m    952\u001b[0m \u001b[0;34m\u001b[0m\u001b[0m\n",
            "\u001b[0;32m/usr/local/lib/python3.10/dist-packages/pandas/io/parsers/readers.py\u001b[0m in \u001b[0;36m_read\u001b[0;34m(filepath_or_buffer, kwds)\u001b[0m\n\u001b[1;32m    603\u001b[0m \u001b[0;34m\u001b[0m\u001b[0m\n\u001b[1;32m    604\u001b[0m     \u001b[0;31m# Create the parser.\u001b[0m\u001b[0;34m\u001b[0m\u001b[0;34m\u001b[0m\u001b[0m\n\u001b[0;32m--> 605\u001b[0;31m     \u001b[0mparser\u001b[0m \u001b[0;34m=\u001b[0m \u001b[0mTextFileReader\u001b[0m\u001b[0;34m(\u001b[0m\u001b[0mfilepath_or_buffer\u001b[0m\u001b[0;34m,\u001b[0m \u001b[0;34m**\u001b[0m\u001b[0mkwds\u001b[0m\u001b[0;34m)\u001b[0m\u001b[0;34m\u001b[0m\u001b[0;34m\u001b[0m\u001b[0m\n\u001b[0m\u001b[1;32m    606\u001b[0m \u001b[0;34m\u001b[0m\u001b[0m\n\u001b[1;32m    607\u001b[0m     \u001b[0;32mif\u001b[0m \u001b[0mchunksize\u001b[0m \u001b[0;32mor\u001b[0m \u001b[0miterator\u001b[0m\u001b[0;34m:\u001b[0m\u001b[0;34m\u001b[0m\u001b[0;34m\u001b[0m\u001b[0m\n",
            "\u001b[0;32m/usr/local/lib/python3.10/dist-packages/pandas/io/parsers/readers.py\u001b[0m in \u001b[0;36m__init__\u001b[0;34m(self, f, engine, **kwds)\u001b[0m\n\u001b[1;32m   1440\u001b[0m \u001b[0;34m\u001b[0m\u001b[0m\n\u001b[1;32m   1441\u001b[0m         \u001b[0mself\u001b[0m\u001b[0;34m.\u001b[0m\u001b[0mhandles\u001b[0m\u001b[0;34m:\u001b[0m \u001b[0mIOHandles\u001b[0m \u001b[0;34m|\u001b[0m \u001b[0;32mNone\u001b[0m \u001b[0;34m=\u001b[0m \u001b[0;32mNone\u001b[0m\u001b[0;34m\u001b[0m\u001b[0;34m\u001b[0m\u001b[0m\n\u001b[0;32m-> 1442\u001b[0;31m         \u001b[0mself\u001b[0m\u001b[0;34m.\u001b[0m\u001b[0m_engine\u001b[0m \u001b[0;34m=\u001b[0m \u001b[0mself\u001b[0m\u001b[0;34m.\u001b[0m\u001b[0m_make_engine\u001b[0m\u001b[0;34m(\u001b[0m\u001b[0mf\u001b[0m\u001b[0;34m,\u001b[0m \u001b[0mself\u001b[0m\u001b[0;34m.\u001b[0m\u001b[0mengine\u001b[0m\u001b[0;34m)\u001b[0m\u001b[0;34m\u001b[0m\u001b[0;34m\u001b[0m\u001b[0m\n\u001b[0m\u001b[1;32m   1443\u001b[0m \u001b[0;34m\u001b[0m\u001b[0m\n\u001b[1;32m   1444\u001b[0m     \u001b[0;32mdef\u001b[0m \u001b[0mclose\u001b[0m\u001b[0;34m(\u001b[0m\u001b[0mself\u001b[0m\u001b[0;34m)\u001b[0m \u001b[0;34m->\u001b[0m \u001b[0;32mNone\u001b[0m\u001b[0;34m:\u001b[0m\u001b[0;34m\u001b[0m\u001b[0;34m\u001b[0m\u001b[0m\n",
            "\u001b[0;32m/usr/local/lib/python3.10/dist-packages/pandas/io/parsers/readers.py\u001b[0m in \u001b[0;36m_make_engine\u001b[0;34m(self, f, engine)\u001b[0m\n\u001b[1;32m   1733\u001b[0m                 \u001b[0;32mif\u001b[0m \u001b[0;34m\"b\"\u001b[0m \u001b[0;32mnot\u001b[0m \u001b[0;32min\u001b[0m \u001b[0mmode\u001b[0m\u001b[0;34m:\u001b[0m\u001b[0;34m\u001b[0m\u001b[0;34m\u001b[0m\u001b[0m\n\u001b[1;32m   1734\u001b[0m                     \u001b[0mmode\u001b[0m \u001b[0;34m+=\u001b[0m \u001b[0;34m\"b\"\u001b[0m\u001b[0;34m\u001b[0m\u001b[0;34m\u001b[0m\u001b[0m\n\u001b[0;32m-> 1735\u001b[0;31m             self.handles = get_handle(\n\u001b[0m\u001b[1;32m   1736\u001b[0m                 \u001b[0mf\u001b[0m\u001b[0;34m,\u001b[0m\u001b[0;34m\u001b[0m\u001b[0;34m\u001b[0m\u001b[0m\n\u001b[1;32m   1737\u001b[0m                 \u001b[0mmode\u001b[0m\u001b[0;34m,\u001b[0m\u001b[0;34m\u001b[0m\u001b[0;34m\u001b[0m\u001b[0m\n",
            "\u001b[0;32m/usr/local/lib/python3.10/dist-packages/pandas/io/common.py\u001b[0m in \u001b[0;36mget_handle\u001b[0;34m(path_or_buf, mode, encoding, compression, memory_map, is_text, errors, storage_options)\u001b[0m\n\u001b[1;32m    711\u001b[0m \u001b[0;34m\u001b[0m\u001b[0m\n\u001b[1;32m    712\u001b[0m     \u001b[0;31m# open URLs\u001b[0m\u001b[0;34m\u001b[0m\u001b[0;34m\u001b[0m\u001b[0m\n\u001b[0;32m--> 713\u001b[0;31m     ioargs = _get_filepath_or_buffer(\n\u001b[0m\u001b[1;32m    714\u001b[0m         \u001b[0mpath_or_buf\u001b[0m\u001b[0;34m,\u001b[0m\u001b[0;34m\u001b[0m\u001b[0;34m\u001b[0m\u001b[0m\n\u001b[1;32m    715\u001b[0m         \u001b[0mencoding\u001b[0m\u001b[0;34m=\u001b[0m\u001b[0mencoding\u001b[0m\u001b[0;34m,\u001b[0m\u001b[0;34m\u001b[0m\u001b[0;34m\u001b[0m\u001b[0m\n",
            "\u001b[0;32m/usr/local/lib/python3.10/dist-packages/pandas/io/common.py\u001b[0m in \u001b[0;36m_get_filepath_or_buffer\u001b[0;34m(filepath_or_buffer, encoding, compression, mode, storage_options)\u001b[0m\n\u001b[1;32m    366\u001b[0m                 \u001b[0;31m# Override compression based on Content-Encoding header\u001b[0m\u001b[0;34m\u001b[0m\u001b[0;34m\u001b[0m\u001b[0m\n\u001b[1;32m    367\u001b[0m                 \u001b[0mcompression\u001b[0m \u001b[0;34m=\u001b[0m \u001b[0;34m{\u001b[0m\u001b[0;34m\"method\"\u001b[0m\u001b[0;34m:\u001b[0m \u001b[0;34m\"gzip\"\u001b[0m\u001b[0;34m}\u001b[0m\u001b[0;34m\u001b[0m\u001b[0;34m\u001b[0m\u001b[0m\n\u001b[0;32m--> 368\u001b[0;31m             \u001b[0mreader\u001b[0m \u001b[0;34m=\u001b[0m \u001b[0mBytesIO\u001b[0m\u001b[0;34m(\u001b[0m\u001b[0mreq\u001b[0m\u001b[0;34m.\u001b[0m\u001b[0mread\u001b[0m\u001b[0;34m(\u001b[0m\u001b[0;34m)\u001b[0m\u001b[0;34m)\u001b[0m\u001b[0;34m\u001b[0m\u001b[0;34m\u001b[0m\u001b[0m\n\u001b[0m\u001b[1;32m    369\u001b[0m         return IOArgs(\n\u001b[1;32m    370\u001b[0m             \u001b[0mfilepath_or_buffer\u001b[0m\u001b[0;34m=\u001b[0m\u001b[0mreader\u001b[0m\u001b[0;34m,\u001b[0m\u001b[0;34m\u001b[0m\u001b[0;34m\u001b[0m\u001b[0m\n",
            "\u001b[0;32m/usr/lib/python3.10/http/client.py\u001b[0m in \u001b[0;36mread\u001b[0;34m(self, amt)\u001b[0m\n\u001b[1;32m    480\u001b[0m             \u001b[0;32melse\u001b[0m\u001b[0;34m:\u001b[0m\u001b[0;34m\u001b[0m\u001b[0;34m\u001b[0m\u001b[0m\n\u001b[1;32m    481\u001b[0m                 \u001b[0;32mtry\u001b[0m\u001b[0;34m:\u001b[0m\u001b[0;34m\u001b[0m\u001b[0;34m\u001b[0m\u001b[0m\n\u001b[0;32m--> 482\u001b[0;31m                     \u001b[0ms\u001b[0m \u001b[0;34m=\u001b[0m \u001b[0mself\u001b[0m\u001b[0;34m.\u001b[0m\u001b[0m_safe_read\u001b[0m\u001b[0;34m(\u001b[0m\u001b[0mself\u001b[0m\u001b[0;34m.\u001b[0m\u001b[0mlength\u001b[0m\u001b[0;34m)\u001b[0m\u001b[0;34m\u001b[0m\u001b[0;34m\u001b[0m\u001b[0m\n\u001b[0m\u001b[1;32m    483\u001b[0m                 \u001b[0;32mexcept\u001b[0m \u001b[0mIncompleteRead\u001b[0m\u001b[0;34m:\u001b[0m\u001b[0;34m\u001b[0m\u001b[0;34m\u001b[0m\u001b[0m\n\u001b[1;32m    484\u001b[0m                     \u001b[0mself\u001b[0m\u001b[0;34m.\u001b[0m\u001b[0m_close_conn\u001b[0m\u001b[0;34m(\u001b[0m\u001b[0;34m)\u001b[0m\u001b[0;34m\u001b[0m\u001b[0;34m\u001b[0m\u001b[0m\n",
            "\u001b[0;32m/usr/lib/python3.10/http/client.py\u001b[0m in \u001b[0;36m_safe_read\u001b[0;34m(self, amt)\u001b[0m\n\u001b[1;32m    629\u001b[0m         \u001b[0mIncompleteRead\u001b[0m \u001b[0mexception\u001b[0m \u001b[0mcan\u001b[0m \u001b[0mbe\u001b[0m \u001b[0mused\u001b[0m \u001b[0mto\u001b[0m \u001b[0mdetect\u001b[0m \u001b[0mthe\u001b[0m \u001b[0mproblem\u001b[0m\u001b[0;34m.\u001b[0m\u001b[0;34m\u001b[0m\u001b[0;34m\u001b[0m\u001b[0m\n\u001b[1;32m    630\u001b[0m         \"\"\"\n\u001b[0;32m--> 631\u001b[0;31m         \u001b[0mdata\u001b[0m \u001b[0;34m=\u001b[0m \u001b[0mself\u001b[0m\u001b[0;34m.\u001b[0m\u001b[0mfp\u001b[0m\u001b[0;34m.\u001b[0m\u001b[0mread\u001b[0m\u001b[0;34m(\u001b[0m\u001b[0mamt\u001b[0m\u001b[0;34m)\u001b[0m\u001b[0;34m\u001b[0m\u001b[0;34m\u001b[0m\u001b[0m\n\u001b[0m\u001b[1;32m    632\u001b[0m         \u001b[0;32mif\u001b[0m \u001b[0mlen\u001b[0m\u001b[0;34m(\u001b[0m\u001b[0mdata\u001b[0m\u001b[0;34m)\u001b[0m \u001b[0;34m<\u001b[0m \u001b[0mamt\u001b[0m\u001b[0;34m:\u001b[0m\u001b[0;34m\u001b[0m\u001b[0;34m\u001b[0m\u001b[0m\n\u001b[1;32m    633\u001b[0m             \u001b[0;32mraise\u001b[0m \u001b[0mIncompleteRead\u001b[0m\u001b[0;34m(\u001b[0m\u001b[0mdata\u001b[0m\u001b[0;34m,\u001b[0m \u001b[0mamt\u001b[0m\u001b[0;34m-\u001b[0m\u001b[0mlen\u001b[0m\u001b[0;34m(\u001b[0m\u001b[0mdata\u001b[0m\u001b[0;34m)\u001b[0m\u001b[0;34m)\u001b[0m\u001b[0;34m\u001b[0m\u001b[0;34m\u001b[0m\u001b[0m\n",
            "\u001b[0;32m/usr/lib/python3.10/socket.py\u001b[0m in \u001b[0;36mreadinto\u001b[0;34m(self, b)\u001b[0m\n\u001b[1;32m    703\u001b[0m         \u001b[0;32mwhile\u001b[0m \u001b[0;32mTrue\u001b[0m\u001b[0;34m:\u001b[0m\u001b[0;34m\u001b[0m\u001b[0;34m\u001b[0m\u001b[0m\n\u001b[1;32m    704\u001b[0m             \u001b[0;32mtry\u001b[0m\u001b[0;34m:\u001b[0m\u001b[0;34m\u001b[0m\u001b[0;34m\u001b[0m\u001b[0m\n\u001b[0;32m--> 705\u001b[0;31m                 \u001b[0;32mreturn\u001b[0m \u001b[0mself\u001b[0m\u001b[0;34m.\u001b[0m\u001b[0m_sock\u001b[0m\u001b[0;34m.\u001b[0m\u001b[0mrecv_into\u001b[0m\u001b[0;34m(\u001b[0m\u001b[0mb\u001b[0m\u001b[0;34m)\u001b[0m\u001b[0;34m\u001b[0m\u001b[0;34m\u001b[0m\u001b[0m\n\u001b[0m\u001b[1;32m    706\u001b[0m             \u001b[0;32mexcept\u001b[0m \u001b[0mtimeout\u001b[0m\u001b[0;34m:\u001b[0m\u001b[0;34m\u001b[0m\u001b[0;34m\u001b[0m\u001b[0m\n\u001b[1;32m    707\u001b[0m                 \u001b[0mself\u001b[0m\u001b[0;34m.\u001b[0m\u001b[0m_timeout_occurred\u001b[0m \u001b[0;34m=\u001b[0m \u001b[0;32mTrue\u001b[0m\u001b[0;34m\u001b[0m\u001b[0;34m\u001b[0m\u001b[0m\n",
            "\u001b[0;32m/usr/lib/python3.10/ssl.py\u001b[0m in \u001b[0;36mrecv_into\u001b[0;34m(self, buffer, nbytes, flags)\u001b[0m\n\u001b[1;32m   1301\u001b[0m                   \u001b[0;34m\"non-zero flags not allowed in calls to recv_into() on %s\"\u001b[0m \u001b[0;34m%\u001b[0m\u001b[0;34m\u001b[0m\u001b[0;34m\u001b[0m\u001b[0m\n\u001b[1;32m   1302\u001b[0m                   self.__class__)\n\u001b[0;32m-> 1303\u001b[0;31m             \u001b[0;32mreturn\u001b[0m \u001b[0mself\u001b[0m\u001b[0;34m.\u001b[0m\u001b[0mread\u001b[0m\u001b[0;34m(\u001b[0m\u001b[0mnbytes\u001b[0m\u001b[0;34m,\u001b[0m \u001b[0mbuffer\u001b[0m\u001b[0;34m)\u001b[0m\u001b[0;34m\u001b[0m\u001b[0;34m\u001b[0m\u001b[0m\n\u001b[0m\u001b[1;32m   1304\u001b[0m         \u001b[0;32melse\u001b[0m\u001b[0;34m:\u001b[0m\u001b[0;34m\u001b[0m\u001b[0;34m\u001b[0m\u001b[0m\n\u001b[1;32m   1305\u001b[0m             \u001b[0;32mreturn\u001b[0m \u001b[0msuper\u001b[0m\u001b[0;34m(\u001b[0m\u001b[0;34m)\u001b[0m\u001b[0;34m.\u001b[0m\u001b[0mrecv_into\u001b[0m\u001b[0;34m(\u001b[0m\u001b[0mbuffer\u001b[0m\u001b[0;34m,\u001b[0m \u001b[0mnbytes\u001b[0m\u001b[0;34m,\u001b[0m \u001b[0mflags\u001b[0m\u001b[0;34m)\u001b[0m\u001b[0;34m\u001b[0m\u001b[0;34m\u001b[0m\u001b[0m\n",
            "\u001b[0;32m/usr/lib/python3.10/ssl.py\u001b[0m in \u001b[0;36mread\u001b[0;34m(self, len, buffer)\u001b[0m\n\u001b[1;32m   1157\u001b[0m         \u001b[0;32mtry\u001b[0m\u001b[0;34m:\u001b[0m\u001b[0;34m\u001b[0m\u001b[0;34m\u001b[0m\u001b[0m\n\u001b[1;32m   1158\u001b[0m             \u001b[0;32mif\u001b[0m \u001b[0mbuffer\u001b[0m \u001b[0;32mis\u001b[0m \u001b[0;32mnot\u001b[0m \u001b[0;32mNone\u001b[0m\u001b[0;34m:\u001b[0m\u001b[0;34m\u001b[0m\u001b[0;34m\u001b[0m\u001b[0m\n\u001b[0;32m-> 1159\u001b[0;31m                 \u001b[0;32mreturn\u001b[0m \u001b[0mself\u001b[0m\u001b[0;34m.\u001b[0m\u001b[0m_sslobj\u001b[0m\u001b[0;34m.\u001b[0m\u001b[0mread\u001b[0m\u001b[0;34m(\u001b[0m\u001b[0mlen\u001b[0m\u001b[0;34m,\u001b[0m \u001b[0mbuffer\u001b[0m\u001b[0;34m)\u001b[0m\u001b[0;34m\u001b[0m\u001b[0;34m\u001b[0m\u001b[0m\n\u001b[0m\u001b[1;32m   1160\u001b[0m             \u001b[0;32melse\u001b[0m\u001b[0;34m:\u001b[0m\u001b[0;34m\u001b[0m\u001b[0;34m\u001b[0m\u001b[0m\n\u001b[1;32m   1161\u001b[0m                 \u001b[0;32mreturn\u001b[0m \u001b[0mself\u001b[0m\u001b[0;34m.\u001b[0m\u001b[0m_sslobj\u001b[0m\u001b[0;34m.\u001b[0m\u001b[0mread\u001b[0m\u001b[0;34m(\u001b[0m\u001b[0mlen\u001b[0m\u001b[0;34m)\u001b[0m\u001b[0;34m\u001b[0m\u001b[0;34m\u001b[0m\u001b[0m\n",
            "\u001b[0;31mKeyboardInterrupt\u001b[0m: "
          ]
        }
      ]
    },
    {
      "cell_type": "code",
      "source": [
        "from sklearn.metrics import make_scorer, mean_squared_error\n",
        "from sklearn.model_selection import GridSearchCV\n",
        "# Definir los parámetros a optimizar\n",
        "param_grid = {'n_estimators': [50, 100, 200], 'contamination': ['auto', 0.1, 0.2, 0.3]}\n",
        "# Definir la métrica de puntuación personalizada\n",
        "scorer = make_scorer(mean_squared_error)\n",
        "\n",
        "# Crear el objeto GridSearchCV con la métrica de puntuación personalizada\n",
        "grid_search = GridSearchCV(IsolationForest(random_state=42), param_grid, cv=5, scoring=scorer)\n",
        "\n",
        "# Ajustar el modelo a los datos\n",
        "grid_search.fit(features_training_reduced)\n",
        "\n",
        "# Imprimir los mejores parámetros\n",
        "print(grid_search.best_params_)\n",
        "#{'contamination': 'auto', 'n_estimators': 50}\n"
      ],
      "metadata": {
        "id": "8ffBCNQB2dlA"
      },
      "execution_count": null,
      "outputs": []
    },
    {
      "cell_type": "code",
      "source": [
        "print(datos_testing.describe())\n",
        "print(datos_testing.info())"
      ],
      "metadata": {
        "id": "MbV1ynZ4oNeS"
      },
      "execution_count": null,
      "outputs": []
    },
    {
      "cell_type": "code",
      "source": [
        "print(datos_training.describe())\n",
        "print(datos_training.info())"
      ],
      "metadata": {
        "id": "zylPsB6PoXdZ"
      },
      "execution_count": null,
      "outputs": []
    },
    {
      "cell_type": "markdown",
      "source": [
        "# Implementación de Algoritmos"
      ],
      "metadata": {
        "id": "Q_1l-r43NtPg"
      }
    },
    {
      "cell_type": "code",
      "source": [
        "!pip install shap"
      ],
      "metadata": {
        "id": "IaTtfoA5rBYT",
        "colab": {
          "base_uri": "https://localhost:8080/"
        },
        "outputId": "cabdecff-cb4a-40bd-ef9e-ca8819f7b6ce"
      },
      "execution_count": null,
      "outputs": [
        {
          "output_type": "stream",
          "name": "stdout",
          "text": [
            "Collecting shap\n",
            "  Downloading shap-0.45.0-cp310-cp310-manylinux_2_12_x86_64.manylinux2010_x86_64.manylinux_2_17_x86_64.manylinux2014_x86_64.whl (538 kB)\n",
            "\u001b[2K     \u001b[90m━━━━━━━━━━━━━━━━━━━━━━━━━━━━━━━━━━━━━━━━\u001b[0m \u001b[32m538.2/538.2 kB\u001b[0m \u001b[31m4.6 MB/s\u001b[0m eta \u001b[36m0:00:00\u001b[0m\n",
            "\u001b[?25hRequirement already satisfied: numpy in /usr/local/lib/python3.10/dist-packages (from shap) (1.25.2)\n",
            "Requirement already satisfied: scipy in /usr/local/lib/python3.10/dist-packages (from shap) (1.11.4)\n",
            "Requirement already satisfied: scikit-learn in /usr/local/lib/python3.10/dist-packages (from shap) (1.2.2)\n",
            "Requirement already satisfied: pandas in /usr/local/lib/python3.10/dist-packages (from shap) (1.5.3)\n",
            "Requirement already satisfied: tqdm>=4.27.0 in /usr/local/lib/python3.10/dist-packages (from shap) (4.66.2)\n",
            "Requirement already satisfied: packaging>20.9 in /usr/local/lib/python3.10/dist-packages (from shap) (23.2)\n",
            "Collecting slicer==0.0.7 (from shap)\n",
            "  Downloading slicer-0.0.7-py3-none-any.whl (14 kB)\n",
            "Requirement already satisfied: numba in /usr/local/lib/python3.10/dist-packages (from shap) (0.58.1)\n",
            "Requirement already satisfied: cloudpickle in /usr/local/lib/python3.10/dist-packages (from shap) (2.2.1)\n",
            "Requirement already satisfied: llvmlite<0.42,>=0.41.0dev0 in /usr/local/lib/python3.10/dist-packages (from numba->shap) (0.41.1)\n",
            "Requirement already satisfied: python-dateutil>=2.8.1 in /usr/local/lib/python3.10/dist-packages (from pandas->shap) (2.8.2)\n",
            "Requirement already satisfied: pytz>=2020.1 in /usr/local/lib/python3.10/dist-packages (from pandas->shap) (2023.4)\n",
            "Requirement already satisfied: joblib>=1.1.1 in /usr/local/lib/python3.10/dist-packages (from scikit-learn->shap) (1.3.2)\n",
            "Requirement already satisfied: threadpoolctl>=2.0.0 in /usr/local/lib/python3.10/dist-packages (from scikit-learn->shap) (3.3.0)\n",
            "Requirement already satisfied: six>=1.5 in /usr/local/lib/python3.10/dist-packages (from python-dateutil>=2.8.1->pandas->shap) (1.16.0)\n",
            "Installing collected packages: slicer, shap\n",
            "Successfully installed shap-0.45.0 slicer-0.0.7\n"
          ]
        }
      ]
    },
    {
      "cell_type": "code",
      "source": [
        "from sklearn.ensemble import IsolationForest\n",
        "from sklearn.svm import OneClassSVM\n",
        "import shap\n",
        "\n",
        "# No considerarar la columna de etiquetas antes de entrenar el autoencoder\n",
        "features_training = datos_training.drop(columns=['label'], errors='ignore')\n",
        "features_testing = datos_testing.drop(columns=['label'], errors='ignore')\n",
        "\n",
        "# Entrenamiento y transformación con Autoencoder\n",
        "autoencoder, encoder = entrenar_autoencoder(features_training.to_numpy())\n",
        "features_training_reduced = transformar_con_autoencoder(encoder, features_training.to_numpy())\n",
        "features_testing_reduced = transformar_con_autoencoder(encoder, features_testing.to_numpy())\n",
        "\n",
        "# Entrenamiento de Isolation Forest y One-Class SVM con características reducidas\n",
        "isolation_forest = IsolationForest(n_estimators=50, contamination='auto', random_state=42)\n",
        "isolation_forest.fit(features_training_reduced)\n",
        "\n",
        "one_class_svm = OneClassSVM(kernel='rbf', gamma='auto')\n",
        "one_class_svm.fit(features_training_reduced)"
      ],
      "metadata": {
        "id": "2-Tl8l9p4f8d"
      },
      "execution_count": null,
      "outputs": []
    },
    {
      "cell_type": "markdown",
      "source": [
        "# Preprocesamiento de Datos"
      ],
      "metadata": {
        "id": "VPUryMfLXXdC"
      }
    },
    {
      "cell_type": "code",
      "source": [
        "\n",
        "# Crear un objeto explainer para cada modelo\n",
        "explainer_if = shap.TreeExplainer(isolation_forest)\n",
        "explainer_svm = shap.KernelExplainer(one_class_svm.predict, features_training_reduced)\n",
        "\n",
        "# Calcular los valores SHAP para cada modelo\n",
        "shap_values_if = explainer_if.shap_values(features_training_reduced)\n",
        "shap_values_svm = explainer_svm.shap_values(features_training_reduced)\n",
        "\n",
        "# Visualizar los valores SHAP para la primera predicción de cada modelo\n",
        "shap.force_plot(explainer_if.expected_value, shap_values_if[0,:], features_training_reduced.iloc[0,:])\n",
        "shap.force_plot(explainer_svm.expected_value, shap_values_svm[0,:], features_training_reduced.iloc[0,:])\n",
        "\n",
        "# Transformación de los datos de prueba\n",
        "features_testing_reduced = transformar_con_autoencoder(encoder, datos_testing.drop('label', axis=1).to_numpy())\n",
        "\n",
        "# Predicciones para los modelos\n",
        "predictions_isolation_forest = isolation_forest.predict(features_testing_reduced)\n",
        "predictions_one_class_svm = one_class_svm.predict(features_testing_reduced)\n",
        "\n",
        "# Convertir las predicciones de -1, 1 a 0, 1\n",
        "predictions_isolation_forest_binarized = (predictions_isolation_forest < 0).astype(int)\n",
        "predictions_one_class_svm_binarized = (predictions_one_class_svm < 0).astype(int)\n",
        "\n",
        "# Etiquetas de prueba reales\n",
        "labels_testing_binarized = label_binarize(datos_testing['label'], classes=[0, 1]).ravel()\n",
        "\n",
        "# Cálculo de métricas\n",
        "precision_if = precision_score(labels_testing_binarized, predictions_isolation_forest_binarized)\n",
        "recall_if = recall_score(labels_testing_binarized, predictions_isolation_forest_binarized)\n",
        "f1_score_if = f1_score(labels_testing_binarized, predictions_isolation_forest_binarized)\n",
        "\n",
        "precision_svm = precision_score(labels_testing_binarized, predictions_one_class_svm_binarized)\n",
        "recall_svm = recall_score(labels_testing_binarized, predictions_one_class_svm_binarized)\n",
        "f1_score_svm = f1_score(labels_testing_binarized, predictions_one_class_svm_binarized)\n",
        "\n",
        "print(f\"Isolation Forest - Precisión: {precision_if}, Recall: {recall_if}, F1-Score: {f1_score_if}\")\n",
        "print(f\"One-Class SVM - Precisión: {precision_svm}, Recall: {recall_svm}, F1-Score: {f1_score_svm}\")"
      ],
      "metadata": {
        "id": "q_iAvvV_XkzH"
      },
      "execution_count": null,
      "outputs": []
    },
    {
      "cell_type": "code",
      "source": [],
      "metadata": {
        "id": "ZdiepVonqGPD"
      },
      "execution_count": null,
      "outputs": []
    },
    {
      "cell_type": "code",
      "source": [
        "# Revisar balanceo de datos\n",
        "# Random Forest y normalizacion de datos\n",
        "# seleccion de mejores caracteristicas\n",
        "# extraer las caracteristicas\n",
        "\n",
        "\n",
        "\n",
        "# Comparar efectividad\n",
        "\n",
        "\n",
        "#Mejorar resultados usar busqeuda de cuadricula o busqueda aleatorioa.\n",
        "# seleccionar caracteristicas como el PCA\n",
        "\n",
        "#Probar red reuronal,\n",
        "\n",
        "# usar weka para ver mejores caracteristicas\n",
        "# boxplot de cada set, para cada variable y vemos como se mueven las mdeidas de cada atributo para analizar la dispersion o incluso outliders\n",
        "\n",
        "#Balanceo de Clases\n"
      ],
      "metadata": {
        "id": "W427T-miE_-N"
      },
      "execution_count": null,
      "outputs": []
    },
    {
      "cell_type": "code",
      "source": [],
      "metadata": {
        "id": "ZvvbFEFqA2HB"
      },
      "execution_count": null,
      "outputs": []
    },
    {
      "cell_type": "code",
      "source": [
        "#Isolation Forest\n",
        "#from sklearn.ensemble import IsolationForest\n",
        "\n",
        "# Instancia del modelo Isolation Forest\n",
        "#isolation_forest = IsolationForest(n_estimators=100, contamination='auto', random_state=42)\n",
        "\n",
        "# Entrenamiento del modelo con los datos de entrenamiento (sin incluir la etiqueta)\n",
        "# Asumiendo que 'label' es la columna de etiquetas y ha sido removida de features_training_normalized\n",
        "#isolation_forest.fit(datos_training)\n",
        "\n",
        "\n",
        "#OneClassSVM\n",
        "#from sklearn.svm import OneClassSVM\n",
        "\n",
        "# Instancia del modelo One-Class SVM\n",
        "#one_class_svm = OneClassSVM(kernel='rbf', gamma='auto')\n",
        "\n",
        "# Entrenamiento del modelo con los datos de entrenamiento\n",
        "#one_class_svm.fit(datos_training)"
      ],
      "metadata": {
        "id": "hhL14ejYNqox"
      },
      "execution_count": null,
      "outputs": []
    },
    {
      "cell_type": "markdown",
      "source": [
        "# Segundo enfoque"
      ],
      "metadata": {
        "id": "joUNjr7Yab-8"
      }
    },
    {
      "cell_type": "code",
      "source": [
        "#Segundo intento\n",
        "import pandas as pd\n",
        "import warnings\n",
        "from sklearn.preprocessing import MinMaxScaler, LabelEncoder\n",
        "\n",
        "#Funcion de cargar datasets\n",
        "def cargar_datos(link):\n",
        "    datos = pd.read_csv(link, encoding='latin1', skipinitialspace=True)\n",
        "    return datos\n",
        "\n",
        "\n",
        "def aplicarLabelEncoder(dataset):\n",
        "    encoder = LabelEncoder()\n",
        "    for columna in dataset.columns:\n",
        "        dataset[columna] = encoder.fit_transform(dataset[columna])\n",
        "    return dataset\n",
        "\n",
        "#Links datasets\n",
        "link_training = \"https://raw.githubusercontent.com/GaboLara998/ProyectoIntegrador/main/DataSet_UNSW_NB15/UNSW_NB15_training-set.csv?token=GHSAT0AAAAAACMBWAOFBU5CFZ67HIDC2XLOZO7JZMA\"\n",
        "link_testing = \"https://raw.githubusercontent.com/GaboLara998/ProyectoIntegrador/main/DataSet_UNSW_NB15/UNSW_NB15_testing-set.csv?token=GHSAT0AAAAAACMBWAOFEFKXDJN42NYN2ZDAZO7JXNA\"\n",
        "\n",
        "\n",
        "# Cargar los datos\n",
        "datos_training = cargar_datos(link_training)\n",
        "datos_testing = cargar_datos(link_testing)\n",
        "\n",
        "UnificacionDatos=[datos_testing,datos_training]\n",
        "datasetFinal=pd.concat(UnificacionDatos)\n",
        "\n",
        "\n",
        "datasetFinal=aplicarLabelEncoder(datasetFinal)\n",
        "\n",
        "\n",
        "#Seleccion de caracteristicas y clase de salida\n",
        "X_features=datasetFinal.iloc[:,1:45]\n",
        "y_label=datasetFinal.iloc[:,0]\n"
      ],
      "metadata": {
        "id": "s5QgQkReY3a1"
      },
      "execution_count": 1,
      "outputs": []
    },
    {
      "cell_type": "code",
      "source": [
        "# Crear el objeto MinMaxScaler\n",
        "scaler = MinMaxScaler()\n",
        "\n",
        "# Ajustar y transformar las características\n",
        "X_scaled = scaler.fit_transform(X_features)\n",
        "\n",
        "# Convertir X_scaled a DataFrame\n",
        "X_scaled_df = pd.DataFrame(X_scaled, columns=X_features.columns)\n",
        "\n",
        "# Imprimir el DataFrame escalado\n",
        "print(X_scaled_df)"
      ],
      "metadata": {
        "id": "ILnTPdq398Cq",
        "colab": {
          "base_uri": "https://localhost:8080/"
        },
        "outputId": "a17e3469-eca6-4650-eebd-18ab86720857"
      },
      "execution_count": 2,
      "outputs": [
        {
          "output_type": "stream",
          "name": "stdout",
          "text": [
            "             dur     proto   service  state     spkts    dpkts    sbytes  \\\n",
            "0       0.000100  0.901515  0.000000    0.5  0.001550  0.00000  0.024091   \n",
            "1       0.000073  0.901515  0.000000    0.5  0.001550  0.00000  0.095086   \n",
            "2       0.000045  0.901515  0.000000    0.5  0.001550  0.00000  0.056497   \n",
            "3       0.000055  0.901515  0.000000    0.5  0.001550  0.00000  0.047436   \n",
            "4       0.000091  0.901515  0.000000    0.5  0.001550  0.00000  0.115020   \n",
            "...          ...       ...       ...    ...       ...      ...       ...   \n",
            "257668  0.000082  0.901515  0.166667    0.5  0.001550  0.00000  0.003198   \n",
            "257669  0.389808  0.856061  0.000000    0.4  0.013953  0.01278  0.031233   \n",
            "257670  0.000082  0.901515  0.166667    0.5  0.001550  0.00000  0.003198   \n",
            "257671  0.000082  0.901515  0.166667    0.5  0.001550  0.00000  0.003198   \n",
            "257672  0.000082  0.901515  0.166667    0.5  0.001550  0.00000  0.003198   \n",
            "\n",
            "          dbytes      rate      sttl  ...  ct_dst_sport_ltm  ct_dst_src_ltm  \\\n",
            "0       0.000000  0.999853  0.916667  ...          0.000000        0.017544   \n",
            "1       0.000000  0.999905  0.916667  ...          0.000000        0.017544   \n",
            "2       0.000000  0.999957  0.916667  ...          0.000000        0.035088   \n",
            "3       0.000000  0.999940  0.916667  ...          0.000000        0.035088   \n",
            "4       0.000000  0.999870  0.916667  ...          0.000000        0.035088   \n",
            "...          ...       ...       ...  ...               ...             ...   \n",
            "257668  0.000000  0.999888  0.916667  ...          0.352941        0.403509   \n",
            "257669  0.010287  0.469325  0.916667  ...          0.000000        0.017544   \n",
            "257670  0.000000  0.999888  0.916667  ...          0.058824        0.210526   \n",
            "257671  0.000000  0.999888  0.916667  ...          0.382353        0.508772   \n",
            "257672  0.000000  0.999888  0.916667  ...          0.441176        0.508772   \n",
            "\n",
            "        is_ftp_login  ct_ftp_cmd  ct_flw_http_mthd  ct_src_ltm  ct_srv_dst  \\\n",
            "0                0.0         0.0               0.0    0.000000    0.017857   \n",
            "1                0.0         0.0               0.0    0.000000    0.017857   \n",
            "2                0.0         0.0               0.0    0.000000    0.035714   \n",
            "3                0.0         0.0               0.0    0.019608    0.035714   \n",
            "4                0.0         0.0               0.0    0.019608    0.035714   \n",
            "...              ...         ...               ...         ...         ...   \n",
            "257668           0.0         0.0               0.0    0.450980    0.410714   \n",
            "257669           0.0         0.0               0.0    0.000000    0.000000   \n",
            "257670           0.0         0.0               0.0    0.039216    0.196429   \n",
            "257671           0.0         0.0               0.0    0.568627    0.517857   \n",
            "257672           0.0         0.0               0.0    0.568627    0.517857   \n",
            "\n",
            "        is_sm_ips_ports  attack_cat  label  \n",
            "0                   0.0    0.666667    0.0  \n",
            "1                   0.0    0.666667    0.0  \n",
            "2                   0.0    0.666667    0.0  \n",
            "3                   0.0    0.666667    0.0  \n",
            "4                   0.0    0.666667    0.0  \n",
            "...                 ...         ...    ...  \n",
            "257668              0.0    0.555556    1.0  \n",
            "257669              0.0    0.888889    1.0  \n",
            "257670              0.0    0.555556    1.0  \n",
            "257671              0.0    0.555556    1.0  \n",
            "257672              0.0    0.555556    1.0  \n",
            "\n",
            "[257673 rows x 44 columns]\n"
          ]
        }
      ]
    },
    {
      "cell_type": "code",
      "source": [
        "#Principle Component Analysis\n",
        "from sklearn.decomposition import PCA\n",
        "import matplotlib.pyplot as plt\n",
        "import tensorflow as tf\n",
        "from tensorflow.keras.layers import Input, Dense\n",
        "from tensorflow.keras.models import Model\n",
        "\n",
        "\n",
        "# Seleccionar características basadas en la correlación de Spearman\n",
        "corr_spearman = X_scaled_df.corr(method='spearman')\n",
        "highly_correlated_features = set()\n",
        "\n",
        "for i in range(len(corr_spearman.columns)):\n",
        "    for j in range(i):\n",
        "        if abs(corr_spearman.iloc[i, j]) > 0.8:  # Puedes ajustar este umbral según tus necesidades\n",
        "            colname = corr_spearman.columns[i]\n",
        "            highly_correlated_features.add(colname)\n",
        "\n",
        "selected_features = [col for col in X_scaled_df.columns if col not in highly_correlated_features]\n",
        "\n",
        "# Crear un nuevo DataFrame con las características seleccionadas\n",
        "X_selected_features = X_scaled_df[selected_features]\n",
        "\n",
        "# Imprimir las características seleccionadas\n",
        "print(X_selected_features)\n",
        "\n",
        "# Definir la arquitectura del autoencoder\n",
        "input_dim = X_selected_features.shape[1]\n",
        "encoding_dim = 10  # ajusta esta dimensión según tus necesidades\n",
        "\n",
        "input_data = Input(shape=(input_dim,))\n",
        "encoded = Dense(encoding_dim, activation='relu')(input_data)\n",
        "decoded = Dense(input_dim, activation='sigmoid')(encoded)\n",
        "\n",
        "autoencoder = Model(input_data, decoded)\n",
        "\n",
        "# Compilar y entrenar el autoencoder\n",
        "autoencoder.compile(optimizer='adam', loss='mean_squared_error')\n",
        "autoencoder.fit(X_selected_features, X_selected_features, epochs=10, batch_size=32)\n",
        "\n",
        "# Obtener las representaciones codificadas de los datos\n",
        "encoded_data = autoencoder.predict(X_selected_features)\n",
        "\n",
        "# Calcular la varianza de las representaciones codificadas\n",
        "encoded_variance = encoded_data.var(axis=0)\n",
        "\n",
        "# Imprimir la varianza de las representaciones codificadas\n",
        "plt.figure(figsize=(8, 6))\n",
        "plt.bar(range(len(encoded_variance)), encoded_variance, alpha=0.5, align='center', label='individual variance')\n",
        "plt.legend()\n",
        "plt.ylabel('Variance ratio')\n",
        "plt.xlabel('Encoded components')\n",
        "plt.show()"
      ],
      "metadata": {
        "colab": {
          "base_uri": "https://localhost:8080/",
          "height": 1000
        },
        "id": "FbNJ05sxswny",
        "outputId": "e15c433c-ca47-4390-ba9e-d083932ec5ca"
      },
      "execution_count": 3,
      "outputs": [
        {
          "output_type": "stream",
          "name": "stdout",
          "text": [
            "             dur     proto   service  state      sttl     smean  trans_depth  \\\n",
            "0       0.000100  0.901515  0.000000    0.5  0.916667  0.153343          0.0   \n",
            "1       0.000073  0.901515  0.000000    0.5  0.916667  0.613372          0.0   \n",
            "2       0.000045  0.901515  0.000000    0.5  0.916667  0.361192          0.0   \n",
            "3       0.000055  0.901515  0.000000    0.5  0.916667  0.300145          0.0   \n",
            "4       0.000091  0.901515  0.000000    0.5  0.916667  0.745640          0.0   \n",
            "...          ...       ...       ...    ...       ...       ...          ...   \n",
            "257668  0.000082  0.901515  0.166667    0.5  0.916667  0.014535          0.0   \n",
            "257669  0.389808  0.856061  0.000000    0.4  0.916667  0.018169          0.0   \n",
            "257670  0.000082  0.901515  0.166667    0.5  0.916667  0.014535          0.0   \n",
            "257671  0.000082  0.901515  0.166667    0.5  0.916667  0.014535          0.0   \n",
            "257672  0.000082  0.901515  0.166667    0.5  0.916667  0.014535          0.0   \n",
            "\n",
            "        ct_srv_src  ct_dst_ltm  ct_src_dport_ltm  is_ftp_login  ct_src_ltm  \\\n",
            "0         0.017857    0.000000          0.000000           0.0    0.000000   \n",
            "1         0.017857    0.000000          0.000000           0.0    0.000000   \n",
            "2         0.035714    0.000000          0.000000           0.0    0.000000   \n",
            "3         0.035714    0.019608          0.019608           0.0    0.019608   \n",
            "4         0.035714    0.019608          0.019608           0.0    0.019608   \n",
            "...            ...         ...               ...           ...         ...   \n",
            "257668    0.410714    0.450980          0.450980           0.0    0.450980   \n",
            "257669    0.000000    0.000000          0.000000           0.0    0.000000   \n",
            "257670    0.196429    0.039216          0.039216           0.0    0.039216   \n",
            "257671    0.517857    0.568627          0.568627           0.0    0.568627   \n",
            "257672    0.517857    0.568627          0.568627           0.0    0.568627   \n",
            "\n",
            "        is_sm_ips_ports  attack_cat  label  \n",
            "0                   0.0    0.666667    0.0  \n",
            "1                   0.0    0.666667    0.0  \n",
            "2                   0.0    0.666667    0.0  \n",
            "3                   0.0    0.666667    0.0  \n",
            "4                   0.0    0.666667    0.0  \n",
            "...                 ...         ...    ...  \n",
            "257668              0.0    0.555556    1.0  \n",
            "257669              0.0    0.888889    1.0  \n",
            "257670              0.0    0.555556    1.0  \n",
            "257671              0.0    0.555556    1.0  \n",
            "257672              0.0    0.555556    1.0  \n",
            "\n",
            "[257673 rows x 15 columns]\n",
            "Epoch 1/10\n",
            "8053/8053 [==============================] - 21s 3ms/step - loss: 0.0071\n",
            "Epoch 2/10\n",
            "8053/8053 [==============================] - 17s 2ms/step - loss: 8.1468e-04\n",
            "Epoch 3/10\n",
            "8053/8053 [==============================] - 15s 2ms/step - loss: 6.0014e-04\n",
            "Epoch 4/10\n",
            "8053/8053 [==============================] - 15s 2ms/step - loss: 5.5542e-04\n",
            "Epoch 5/10\n",
            "8053/8053 [==============================] - 15s 2ms/step - loss: 5.4142e-04\n",
            "Epoch 6/10\n",
            "8053/8053 [==============================] - 14s 2ms/step - loss: 5.3238e-04\n",
            "Epoch 7/10\n",
            "8053/8053 [==============================] - 15s 2ms/step - loss: 5.2532e-04\n",
            "Epoch 8/10\n",
            "8053/8053 [==============================] - 16s 2ms/step - loss: 5.1944e-04\n",
            "Epoch 9/10\n",
            "8053/8053 [==============================] - 15s 2ms/step - loss: 5.1521e-04\n",
            "Epoch 10/10\n",
            "8053/8053 [==============================] - 15s 2ms/step - loss: 5.1223e-04\n",
            "8053/8053 [==============================] - 12s 1ms/step\n"
          ]
        },
        {
          "output_type": "display_data",
          "data": {
            "text/plain": [
              "<Figure size 800x600 with 1 Axes>"
            ],
            "image/png": "[encoded data removed]"
          },
          "metadata": {}
        }
      ]
    },
    {
      "cell_type": "code",
      "source": [
        "import warnings\n",
        "warnings.filterwarnings(\"ignore\", category=UserWarning)\n",
        "\n",
        "from sklearn.ensemble import IsolationForest\n",
        "\n",
        "# Crear el clasificador Isolation Forest\n",
        "iforest = IsolationForest(contamination=0.1, random_state=42)  # Puedes ajustar el valor de \"contamination\"\n",
        "\n",
        "# Entrenar el modelo Isolation Forest\n",
        "iforest.fit(X_selected_features)\n",
        "\n",
        "# Predecir las etiquetas de anomalía (-1 para anomalía, 1 para no anomalía)\n",
        "anomaly_labels = iforest.predict(X_selected_features)\n",
        "\n",
        "# Contar el número de anomalías y no anomalías\n",
        "n_anomalies = (anomaly_labels == -1).sum()\n",
        "n_normals = (anomaly_labels == 1).sum()\n",
        "\n",
        "# Imprimir el número de anomalías y no anomalías\n",
        "print(\"Número de anomalías:\", n_anomalies)\n",
        "print(\"Número de instancias normales:\", n_normals)"
      ],
      "metadata": {
        "colab": {
          "base_uri": "https://localhost:8080/"
        },
        "id": "Phq-n-wsCIVA",
        "outputId": "89bfe203-d2ba-47dd-ea63-d557cb9e808a"
      },
      "execution_count": 7,
      "outputs": [
        {
          "output_type": "stream",
          "name": "stdout",
          "text": [
            "Número de anomalías: 25767\n",
            "Número de instancias normales: 231906\n"
          ]
        }
      ]
    },
    {
      "cell_type": "code",
      "source": [
        "from sklearn.svm import OneClassSVM\n",
        "\n",
        "# Crear el clasificador One-Class SVM\n",
        "ocsvm = OneClassSVM(nu=0.1)  # Puedes ajustar el valor de \"nu\"\n",
        "\n",
        "# Entrenar el modelo One-Class SVM\n",
        "ocsvm.fit(X_selected_features)\n",
        "\n",
        "# Predecir las etiquetas de anomalía (-1 para anomalía, 1 para no anomalía)\n",
        "anomaly_labels_ocsvm = ocsvm.predict(X_selected_features)\n",
        "\n",
        "# Contar el número de anomalías y no anomalías\n",
        "n_anomalies_ocsvm = (anomaly_labels_ocsvm == -1).sum()\n",
        "n_normals_ocsvm = (anomaly_labels_ocsvm == 1).sum()\n",
        "\n",
        "# Imprimir el número de anomalías y no anomalías\n",
        "print(\"Número de anomalías (One-Class SVM):\", n_anomalies_ocsvm)\n",
        "print(\"Número de instancias normales (One-Class SVM):\", n_normals_ocsvm)\n"
      ],
      "metadata": {
        "colab": {
          "base_uri": "https://localhost:8080/"
        },
        "id": "VZGfaPIjV0W8",
        "outputId": "8eb3a661-850b-4a8d-891a-0946ef237793"
      },
      "execution_count": 8,
      "outputs": [
        {
          "output_type": "stream",
          "name": "stdout",
          "text": [
            "Número de anomalías (One-Class SVM): 25630\n",
            "Número de instancias normales (One-Class SVM): 232043\n"
          ]
        }
      ]
    },
    {
      "cell_type": "code",
      "source": [
        "from sklearn.metrics import precision_score, recall_score, f1_score, roc_auc_score\n",
        "\n",
        "# Calcular las métricas para Isolation Forest\n",
        "iforest_scores = iforest.decision_function(X_selected_features)\n",
        "iforest_labels = iforest.predict(X_selected_features)\n",
        "\n",
        "# Calcular las métricas para One-Class SVM\n",
        "ocsvm_scores = ocsvm.decision_function(X_selected_features)\n",
        "ocsvm_labels = ocsvm.predict(X_selected_features)\n",
        "\n",
        "# Definir las etiquetas verdaderas (1 para instancias normales, -1 para anomalías)\n",
        "true_labels = y_label  # Suponiendo que 'y_label' contiene las etiquetas verdaderas\n",
        "\n",
        "# Convertir las etiquetas de anomalía de los modelos en 1 para instancias normales y -1 para anomalías\n",
        "iforest_labels = (iforest_labels == 1).astype(int)\n",
        "ocsvm_labels = (ocsvm_labels == 1).astype(int)\n"
      ],
      "metadata": {
        "id": "ikOUV1a9g_bN"
      },
      "execution_count": 10,
      "outputs": []
    },
    {
      "cell_type": "code",
      "source": [
        "# Convertir las etiquetas de anomalía en binarias (1 para instancias normales, -1 para anomalías)\n",
        "binary_true_labels = (true_labels == 1).astype(int)\n",
        "\n",
        "# Calcular las métricas para Isolation Forest\n",
        "precision_iforest = precision_score(true_labels, iforest_labels, average='macro')\n",
        "recall_iforest = recall_score(true_labels, iforest_labels, average='macro')\n",
        "f1_score_iforest = f1_score(true_labels, iforest_labels, average='macro')\n",
        "auc_iforest = roc_auc_score(binary_true_labels, -iforest_scores)\n",
        "print(\"Métricas de Isolation Forest:\")\n",
        "print(\"Precisión:\", precision_iforest)\n",
        "print(\"Recall:\", recall_iforest)\n",
        "print(\"F1-score:\", f1_score_iforest)\n",
        "print(\"AUC:\", auc_iforest)\n",
        "print()\n",
        "\n",
        "# Calcular las métricas para One-Class SVM\n",
        "precision_ocsvm = precision_score(true_labels, ocsvm_labels, average='macro')\n",
        "recall_ocsvm = recall_score(true_labels, ocsvm_labels, average='macro')\n",
        "f1_score_ocsvm = f1_score(true_labels, ocsvm_labels, average='macro')\n",
        "auc_ocsvm = roc_auc_score(binary_true_labels, -ocsvm_scores)  # Usar los scores negativos para AUC\n",
        "print(\"Métricas de One-Class SVM:\")\n",
        "print(\"Precisión:\", precision_ocsvm)\n",
        "print(\"Recall:\", recall_ocsvm)\n",
        "print(\"F1-score:\", f1_score_ocsvm)\n",
        "print(\"AUC:\", auc_ocsvm)\n"
      ],
      "metadata": {
        "colab": {
          "base_uri": "https://localhost:8080/"
        },
        "id": "dEynOBZ9lhVo",
        "outputId": "71d6a731-bd7e-4ae0-fea5-54084ec8556f"
      },
      "execution_count": 19,
      "outputs": [
        {
          "output_type": "stream",
          "name": "stdout",
          "text": [
            "Métricas de Isolation Forest:\n",
            "Precisión: 4.9185210171009634e-11\n",
            "Recall: 5.70317267495908e-06\n",
            "F1-score: 9.836957198473671e-11\n",
            "AUC: 0.7949099821089685\n",
            "\n",
            "Métricas de One-Class SVM:\n",
            "Precisión: 0.0\n",
            "Recall: 0.0\n",
            "F1-score: 0.0\n",
            "AUC: 0.937233914565473\n"
          ]
        }
      ]
    },
    {
      "cell_type": "code",
      "source": [
        "# Convertir las etiquetas de anomalía en binarias (1 para instancias normales, -1 para anomalías)\n",
        "binary_true_labels = (true_labels == 1).astype(int)\n",
        "\n",
        "# Calcular las métricas para Isolation Forest\n",
        "precision_iforest = precision_score(binary_true_labels, iforest_labels, average='macro')\n",
        "recall_iforest = recall_score(binary_true_labels, iforest_labels, average='macro')\n",
        "f1_score_iforest = f1_score(binary_true_labels, iforest_labels, average='macro')\n",
        "auc_iforest = roc_auc_score(binary_true_labels, -iforest_scores)\n",
        "print(\"Métricas de Isolation Forest:\")\n",
        "print(\"Precisión:\", precision_iforest)\n",
        "print(\"Recall:\", recall_iforest)\n",
        "print(\"F1-score:\", f1_score_iforest)\n",
        "print(\"AUC:\", auc_iforest)\n",
        "print()\n",
        "\n",
        "# Calcular las métricas para One-Class SVM\n",
        "precision_ocsvm = precision_score(binary_true_labels, ocsvm_labels, average='macro')\n",
        "recall_ocsvm = recall_score(binary_true_labels, ocsvm_labels, average='macro')\n",
        "f1_score_ocsvm = f1_score(binary_true_labels, ocsvm_labels, average='macro')\n",
        "auc_ocsvm = roc_auc_score(binary_true_labels, -ocsvm_scores)  # Usar los scores negativos para AUC\n",
        "print(\"Métricas de One-Class SVM:\")\n",
        "print(\"Precisión:\", precision_ocsvm)\n",
        "print(\"Recall:\", recall_ocsvm)\n",
        "print(\"F1-score:\", f1_score_ocsvm)\n",
        "print(\"AUC:\", auc_ocsvm)\n"
      ],
      "metadata": {
        "colab": {
          "base_uri": "https://localhost:8080/"
        },
        "id": "2rPjdN_3sWJZ",
        "outputId": "a0e4e4bd-181b-4225-f9b0-f96f27352c41"
      },
      "execution_count": 21,
      "outputs": [
        {
          "output_type": "stream",
          "name": "stdout",
          "text": [
            "Métricas de Isolation Forest:\n",
            "Precisión: 0.5000043120919683\n",
            "Recall: 0.5499998059541042\n",
            "F1-score: 0.0909173942815207\n",
            "AUC: 0.7949099821089685\n",
            "\n",
            "Métricas de One-Class SVM:\n",
            "Precisión: 0.4999609832227858\n",
            "Recall: 0.049730082159032254\n",
            "F1-score: 0.09046208802651595\n",
            "AUC: 0.937233914565473\n"
          ]
        }
      ]
    },
    {
      "cell_type": "markdown",
      "source": [
        "#Comparacion de algoritmos"
      ],
      "metadata": {
        "id": "JEexjD-i2uww"
      }
    },
    {
      "cell_type": "code",
      "source": [
        "from sklearn.ensemble import RandomForestClassifier\n",
        "\n",
        "# Crear un clasificador de Random Forest\n",
        "rf_classifier = RandomForestClassifier()\n",
        "\n",
        "# Entrenar el clasificador de Random Forest\n",
        "rf_classifier.fit(X_scaled, y_label)\n",
        "\n",
        "# Obtener la importancia de las características\n",
        "feature_importances = rf_classifier.feature_importances_\n",
        "\n",
        "# Crear un DataFrame para visualizar la importancia de las características\n",
        "feature_importance_df = pd.DataFrame({'Feature': X_features.columns, 'Importance': feature_importances})\n",
        "\n",
        "# Ordenar las características por importancia en orden descendente\n",
        "feature_importance_df = feature_importance_df.sort_values(by='Importance', ascending=False)\n",
        "\n",
        "# Imprimir las características ordenadas por importancia\n",
        "print(feature_importance_df)"
      ],
      "metadata": {
        "id": "_Wo60MR32Scf"
      },
      "execution_count": null,
      "outputs": []
    }
  ]
}