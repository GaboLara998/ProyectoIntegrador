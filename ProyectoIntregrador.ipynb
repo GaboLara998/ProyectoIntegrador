{
  "nbformat": 4,
  "nbformat_minor": 0,
  "metadata": {
    "colab": {
      "provenance": [],
      "authorship_tag": "ABX9TyPHsFtjdr+NcH4BRNP5ckt1",
      "include_colab_link": true
    },
    "kernelspec": {
      "name": "python3",
      "display_name": "Python 3"
    },
    "language_info": {
      "name": "python"
    }
  },
  "cells": [
    {
      "cell_type": "markdown",
      "metadata": {
        "id": "view-in-github",
        "colab_type": "text"
      },
      "source": [
        "<a href=\"https://colab.research.google.com/github/GaboLara998/ProyectoIntegrador/blob/main/ProyectoIntregrador.ipynb\" target=\"_parent\"><img src=\"https://colab.research.google.com/assets/colab-badge.svg\" alt=\"Open In Colab\"/></a>"
      ]
    },
    {
      "cell_type": "markdown",
      "source": [
        "# Carga de Datos"
      ],
      "metadata": {
        "id": "3SApa2JBN0fK"
      }
    },
    {
      "cell_type": "code",
      "execution_count": 2,
      "metadata": {
        "id": "Lfqdta_6qoZJ"
      },
      "outputs": [],
      "source": [
        "#Carga de Datasets\n",
        "import pandas as pd\n",
        "import seaborn as sns\n",
        "import warnings\n",
        "warnings.filterwarnings('ignore')\n",
        "import matplotlib.pyplot as plt\n",
        "#Normalizador MinMax\n",
        "from sklearn.preprocessing import MinMaxScaler\n",
        "from sklearn.preprocessing import LabelEncoder\n",
        "# Crea el normalizador\n",
        "scaler = MinMaxScaler()\n",
        "# Crea el codificador\n",
        "encoder = LabelEncoder()"
      ]
    },
    {
      "cell_type": "code",
      "source": [
        "#Funcion de cargar datasets\n",
        "def cargar_datos(url):\n",
        "    datos = pd.read_csv(url, encoding='latin1', skipinitialspace=True)\n",
        "    return datos\n",
        "\n",
        "\n",
        "# Función para codificar variables categóricas\n",
        "def codificar_variables_categoricas(datos, columnas_categoricas):\n",
        "    encoder = LabelEncoder()\n",
        "    for columna in columnas_categoricas:\n",
        "        datos[columna] = encoder.fit_transform(datos[columna])\n",
        "    return datos\n",
        "\n",
        "\n",
        "# Función para normalizar las características\n",
        "def normalizar_caracteristicas(datos, columnas_a_normalizar):\n",
        "    scaler = MinMaxScaler()\n",
        "    datos[columnas_a_normalizar] = scaler.fit_transform(datos[columnas_a_normalizar])\n",
        "    return datos"
      ],
      "metadata": {
        "id": "iFN3Im3pn0Fu"
      },
      "execution_count": 3,
      "outputs": []
    },
    {
      "cell_type": "code",
      "source": [
        "# URLs de los conjuntos de datos\n",
        "url_training = \"https://raw.githubusercontent.com/GaboLara998/ProyectoIntegrador/main/DataSet_UNSW_NB15/UNSW_NB15_training-set.csv?token=GHSAT0AAAAAACMBWAOFBU5CFZ67HIDC2XLOZO7JZMA\"\n",
        "url_testing = \"https://raw.githubusercontent.com/GaboLara998/ProyectoIntegrador/main/DataSet_UNSW_NB15/UNSW_NB15_testing-set.csv?token=GHSAT0AAAAAACMBWAOFEFKXDJN42NYN2ZDAZO7JXNA\"\n",
        "\n",
        "# Cargar los datos\n",
        "datos_training = cargar_datos(url_training)\n",
        "datos_testing = cargar_datos(url_testing)\n",
        "\n",
        "# Columnas categóricas\n",
        "columnas_categoricas = ['proto', 'service', 'state', 'attack_cat']\n",
        "\n",
        "# Codificar variables categóricas\n",
        "datos_training = codificar_variables_categoricas(datos_training, columnas_categoricas)\n",
        "datos_testing = codificar_variables_categoricas(datos_testing, columnas_categoricas)\n",
        "\n",
        "# Columnas a normalizar (todas excepto 'label')\n",
        "columnas_a_normalizar = datos_training.drop(columns=['label']).columns\n",
        "\n",
        "# Normalizar características\n",
        "datos_training = normalizar_caracteristicas(datos_training, columnas_a_normalizar)\n",
        "datos_testing = normalizar_caracteristicas(datos_testing, columnas_a_normalizar)\n"
      ],
      "metadata": {
        "id": "Q6966cs3E2IP"
      },
      "execution_count": 4,
      "outputs": []
    },
    {
      "cell_type": "code",
      "source": [
        "print(datos_testing.describe())\n",
        "print(datos_testing.info())"
      ],
      "metadata": {
        "colab": {
          "base_uri": "https://localhost:8080/"
        },
        "id": "MbV1ynZ4oNeS",
        "outputId": "530ae107-bbfb-4075-f438-a0614d826711"
      },
      "execution_count": 6,
      "outputs": [
        {
          "output_type": "stream",
          "name": "stdout",
          "text": [
            "             ï»¿id           dur         proto       service         state  \\\n",
            "count  82332.00000  8.233200e+04  82332.000000  82332.000000  82332.000000   \n",
            "mean       0.50000  1.677927e-02      0.841141      0.118475      0.562459   \n",
            "std        0.28868  7.850742e-02      0.143364      0.175674      0.111729   \n",
            "min        0.00000  0.000000e+00      0.000000      0.000000      0.000000   \n",
            "25%        0.25000  1.333334e-07      0.853846      0.000000      0.500000   \n",
            "50%        0.50000  2.356334e-04      0.853846      0.000000      0.500000   \n",
            "75%        0.75000  1.198934e-02      0.900000      0.166667      0.666667   \n",
            "max        1.00000  1.000000e+00      1.000000      1.000000      1.000000   \n",
            "\n",
            "              spkts         dpkts        sbytes        dbytes          rate  \\\n",
            "count  82332.000000  82332.000000  82332.000000  82332.000000  82332.000000   \n",
            "mean       0.001660      0.001592      0.000555      0.000903      0.082411   \n",
            "std        0.012580      0.010490      0.011956      0.010334      0.148620   \n",
            "min        0.000000      0.000000      0.000000      0.000000      0.000000   \n",
            "25%        0.000094      0.000000      0.000006      0.000000      0.000029   \n",
            "50%        0.000470      0.000182      0.000036      0.000012      0.002650   \n",
            "75%        0.001033      0.000908      0.000087      0.000065      0.111111   \n",
            "max        1.000000      1.000000      1.000000      1.000000      1.000000   \n",
            "\n",
            "       ...  ct_dst_sport_ltm  ct_dst_src_ltm  is_ftp_login    ct_ftp_cmd  \\\n",
            "count  ...      82332.000000    82332.000000  82332.000000  82332.000000   \n",
            "mean   ...          0.071973        0.104135      0.004142      0.004190   \n",
            "std    ...          0.159875        0.184116      0.045586      0.046243   \n",
            "min    ...          0.000000        0.000000      0.000000      0.000000   \n",
            "25%    ...          0.000000        0.000000      0.000000      0.000000   \n",
            "50%    ...          0.000000        0.032258      0.000000      0.000000   \n",
            "75%    ...          0.054054        0.080645      0.000000      0.000000   \n",
            "max    ...          1.000000        1.000000      1.000000      1.000000   \n",
            "\n",
            "       ct_flw_http_mthd    ct_src_ltm    ct_srv_dst  is_sm_ips_ports  \\\n",
            "count      82332.000000  82332.000000  82332.000000     82332.000000   \n",
            "mean           0.008109      0.092684      0.133840         0.011126   \n",
            "std            0.039918      0.144812      0.182318         0.104891   \n",
            "min            0.000000      0.000000      0.000000         0.000000   \n",
            "25%            0.000000      0.000000      0.016393         0.000000   \n",
            "50%            0.000000      0.033898      0.065574         0.000000   \n",
            "75%            0.000000      0.101695      0.163934         0.000000   \n",
            "max            1.000000      1.000000      1.000000         1.000000   \n",
            "\n",
            "         attack_cat         label  \n",
            "count  82332.000000  82332.000000  \n",
            "mean       0.554195      0.550600  \n",
            "std        0.159060      0.497436  \n",
            "min        0.000000      0.000000  \n",
            "25%        0.444444      0.000000  \n",
            "50%        0.555556      1.000000  \n",
            "75%        0.666667      1.000000  \n",
            "max        1.000000      1.000000  \n",
            "\n",
            "[8 rows x 45 columns]\n",
            "<class 'pandas.core.frame.DataFrame'>\n",
            "RangeIndex: 82332 entries, 0 to 82331\n",
            "Data columns (total 45 columns):\n",
            " #   Column             Non-Null Count  Dtype  \n",
            "---  ------             --------------  -----  \n",
            " 0   ï»¿id              82332 non-null  float64\n",
            " 1   dur                82332 non-null  float64\n",
            " 2   proto              82332 non-null  float64\n",
            " 3   service            82332 non-null  float64\n",
            " 4   state              82332 non-null  float64\n",
            " 5   spkts              82332 non-null  float64\n",
            " 6   dpkts              82332 non-null  float64\n",
            " 7   sbytes             82332 non-null  float64\n",
            " 8   dbytes             82332 non-null  float64\n",
            " 9   rate               82332 non-null  float64\n",
            " 10  sttl               82332 non-null  float64\n",
            " 11  dttl               82332 non-null  float64\n",
            " 12  sload              82332 non-null  float64\n",
            " 13  dload              82332 non-null  float64\n",
            " 14  sloss              82332 non-null  float64\n",
            " 15  dloss              82332 non-null  float64\n",
            " 16  sinpkt             82332 non-null  float64\n",
            " 17  dinpkt             82332 non-null  float64\n",
            " 18  sjit               82332 non-null  float64\n",
            " 19  djit               82332 non-null  float64\n",
            " 20  swin               82332 non-null  float64\n",
            " 21  stcpb              82332 non-null  float64\n",
            " 22  dtcpb              82332 non-null  float64\n",
            " 23  dwin               82332 non-null  float64\n",
            " 24  tcprtt             82332 non-null  float64\n",
            " 25  synack             82332 non-null  float64\n",
            " 26  ackdat             82332 non-null  float64\n",
            " 27  smean              82332 non-null  float64\n",
            " 28  dmean              82332 non-null  float64\n",
            " 29  trans_depth        82332 non-null  float64\n",
            " 30  response_body_len  82332 non-null  float64\n",
            " 31  ct_srv_src         82332 non-null  float64\n",
            " 32  ct_state_ttl       82332 non-null  float64\n",
            " 33  ct_dst_ltm         82332 non-null  float64\n",
            " 34  ct_src_dport_ltm   82332 non-null  float64\n",
            " 35  ct_dst_sport_ltm   82332 non-null  float64\n",
            " 36  ct_dst_src_ltm     82332 non-null  float64\n",
            " 37  is_ftp_login       82332 non-null  float64\n",
            " 38  ct_ftp_cmd         82332 non-null  float64\n",
            " 39  ct_flw_http_mthd   82332 non-null  float64\n",
            " 40  ct_src_ltm         82332 non-null  float64\n",
            " 41  ct_srv_dst         82332 non-null  float64\n",
            " 42  is_sm_ips_ports    82332 non-null  float64\n",
            " 43  attack_cat         82332 non-null  float64\n",
            " 44  label              82332 non-null  int64  \n",
            "dtypes: float64(44), int64(1)\n",
            "memory usage: 28.3 MB\n",
            "None\n"
          ]
        }
      ]
    },
    {
      "cell_type": "code",
      "source": [
        "print(datos_training.describe())\n",
        "print(datos_training.info())"
      ],
      "metadata": {
        "colab": {
          "base_uri": "https://localhost:8080/"
        },
        "id": "zylPsB6PoXdZ",
        "outputId": "c1e465f8-613f-4cda-85be-1232f59462d3"
      },
      "execution_count": 7,
      "outputs": [
        {
          "output_type": "stream",
          "name": "stdout",
          "text": [
            "               ï»¿id           dur          proto        service  \\\n",
            "count  175341.000000  1.753410e+05  175341.000000  175341.000000   \n",
            "mean        0.500000  2.265648e-02       0.830354       0.134910   \n",
            "std         0.288678  1.080042e-01       0.169338       0.192096   \n",
            "min         0.000000  0.000000e+00       0.000000       0.000000   \n",
            "25%         0.250000  1.333334e-07       0.856061       0.000000   \n",
            "50%         0.500000  2.636667e-05       0.856061       0.000000   \n",
            "75%         0.750000  1.113449e-02       0.901515       0.166667   \n",
            "max         1.000000  1.000000e+00       1.000000       1.000000   \n",
            "\n",
            "               state          spkts          dpkts         sbytes  \\\n",
            "count  175341.000000  175341.000000  175341.000000  175341.000000   \n",
            "mean        0.294397       0.002007       0.001729       0.000680   \n",
            "std         0.108493       0.014237       0.010047       0.013480   \n",
            "min         0.000000       0.000000       0.000000       0.000000   \n",
            "25%         0.250000       0.000104       0.000000       0.000007   \n",
            "50%         0.250000       0.000104       0.000182       0.000031   \n",
            "75%         0.375000       0.001144       0.000911       0.000107   \n",
            "max         1.000000       1.000000       1.000000       1.000000   \n",
            "\n",
            "              dbytes           rate  ...  ct_dst_sport_ltm  ct_dst_src_ltm  \\\n",
            "count  175341.000000  175341.000000  ...     175341.000000   175341.000000   \n",
            "mean        0.001019       0.095406  ...          0.071250        0.120779   \n",
            "std         0.009802       0.165401  ...          0.128524        0.171190   \n",
            "min         0.000000       0.000000  ...          0.000000        0.000000   \n",
            "25%         0.000000       0.000033  ...          0.000000        0.000000   \n",
            "50%         0.000011       0.003226  ...          0.000000        0.031250   \n",
            "75%         0.000075       0.125000  ...          0.044444        0.171875   \n",
            "max         1.000000       1.000000  ...          1.000000        1.000000   \n",
            "\n",
            "        is_ftp_login     ct_ftp_cmd  ct_flw_http_mthd     ct_src_ltm  \\\n",
            "count  175341.000000  175341.000000     175341.000000  175341.000000   \n",
            "mean        0.003737       0.003737          0.004436       0.100946   \n",
            "std         0.031512       0.031512          0.023374       0.141042   \n",
            "min         0.000000       0.000000          0.000000       0.000000   \n",
            "25%         0.000000       0.000000          0.000000       0.016949   \n",
            "50%         0.000000       0.000000          0.000000       0.033898   \n",
            "75%         0.000000       0.000000          0.000000       0.135593   \n",
            "max         1.000000       1.000000          1.000000       1.000000   \n",
            "\n",
            "          ct_srv_dst  is_sm_ips_ports     attack_cat          label  \n",
            "count  175341.000000    175341.000000  175341.000000  175341.000000  \n",
            "mean        0.132799         0.015752       0.518900       0.680622  \n",
            "std         0.176343         0.124516       0.174249       0.466237  \n",
            "min         0.000000         0.000000       0.000000       0.000000  \n",
            "25%         0.016393         0.000000       0.333333       0.000000  \n",
            "50%         0.049180         0.000000       0.555556       1.000000  \n",
            "75%         0.180328         0.000000       0.666667       1.000000  \n",
            "max         1.000000         1.000000       1.000000       1.000000  \n",
            "\n",
            "[8 rows x 45 columns]\n",
            "<class 'pandas.core.frame.DataFrame'>\n",
            "RangeIndex: 175341 entries, 0 to 175340\n",
            "Data columns (total 45 columns):\n",
            " #   Column             Non-Null Count   Dtype  \n",
            "---  ------             --------------   -----  \n",
            " 0   ï»¿id              175341 non-null  float64\n",
            " 1   dur                175341 non-null  float64\n",
            " 2   proto              175341 non-null  float64\n",
            " 3   service            175341 non-null  float64\n",
            " 4   state              175341 non-null  float64\n",
            " 5   spkts              175341 non-null  float64\n",
            " 6   dpkts              175341 non-null  float64\n",
            " 7   sbytes             175341 non-null  float64\n",
            " 8   dbytes             175341 non-null  float64\n",
            " 9   rate               175341 non-null  float64\n",
            " 10  sttl               175341 non-null  float64\n",
            " 11  dttl               175341 non-null  float64\n",
            " 12  sload              175341 non-null  float64\n",
            " 13  dload              175341 non-null  float64\n",
            " 14  sloss              175341 non-null  float64\n",
            " 15  dloss              175341 non-null  float64\n",
            " 16  sinpkt             175341 non-null  float64\n",
            " 17  dinpkt             175341 non-null  float64\n",
            " 18  sjit               175341 non-null  float64\n",
            " 19  djit               175341 non-null  float64\n",
            " 20  swin               175341 non-null  float64\n",
            " 21  stcpb              175341 non-null  float64\n",
            " 22  dtcpb              175341 non-null  float64\n",
            " 23  dwin               175341 non-null  float64\n",
            " 24  tcprtt             175341 non-null  float64\n",
            " 25  synack             175341 non-null  float64\n",
            " 26  ackdat             175341 non-null  float64\n",
            " 27  smean              175341 non-null  float64\n",
            " 28  dmean              175341 non-null  float64\n",
            " 29  trans_depth        175341 non-null  float64\n",
            " 30  response_body_len  175341 non-null  float64\n",
            " 31  ct_srv_src         175341 non-null  float64\n",
            " 32  ct_state_ttl       175341 non-null  float64\n",
            " 33  ct_dst_ltm         175341 non-null  float64\n",
            " 34  ct_src_dport_ltm   175341 non-null  float64\n",
            " 35  ct_dst_sport_ltm   175341 non-null  float64\n",
            " 36  ct_dst_src_ltm     175341 non-null  float64\n",
            " 37  is_ftp_login       175341 non-null  float64\n",
            " 38  ct_ftp_cmd         175341 non-null  float64\n",
            " 39  ct_flw_http_mthd   175341 non-null  float64\n",
            " 40  ct_src_ltm         175341 non-null  float64\n",
            " 41  ct_srv_dst         175341 non-null  float64\n",
            " 42  is_sm_ips_ports    175341 non-null  float64\n",
            " 43  attack_cat         175341 non-null  float64\n",
            " 44  label              175341 non-null  int64  \n",
            "dtypes: float64(44), int64(1)\n",
            "memory usage: 60.2 MB\n",
            "None\n"
          ]
        }
      ]
    },
    {
      "cell_type": "code",
      "source": [
        "# Revisar balanceo de datos\n",
        "# Random Forest y normalizacion de datos\n",
        "# seleccion de mejores caracteristicas\n",
        "# extraer las caracteristicas\n",
        "# Comparar efectividad"
      ],
      "metadata": {
        "id": "W427T-miE_-N"
      },
      "execution_count": null,
      "outputs": []
    },
    {
      "cell_type": "markdown",
      "source": [
        "# Implementación de Algoritmos"
      ],
      "metadata": {
        "id": "Q_1l-r43NtPg"
      }
    },
    {
      "cell_type": "code",
      "source": [
        "#Isolation Forest"
      ],
      "metadata": {
        "id": "hhL14ejYNqox"
      },
      "execution_count": null,
      "outputs": []
    },
    {
      "cell_type": "markdown",
      "source": [
        "# Preprocesamiento de Datos"
      ],
      "metadata": {
        "id": "VPUryMfLXXdC"
      }
    },
    {
      "cell_type": "code",
      "source": [],
      "metadata": {
        "id": "q_iAvvV_XkzH"
      },
      "execution_count": null,
      "outputs": []
    }
  ]
}