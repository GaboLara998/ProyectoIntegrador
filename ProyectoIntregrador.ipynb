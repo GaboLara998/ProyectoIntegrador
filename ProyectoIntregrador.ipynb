{
  "nbformat": 4,
  "nbformat_minor": 0,
  "metadata": {
    "colab": {
      "provenance": [],
      "authorship_tag": "ABX9TyN2jkS9xd4hJcblMjvhxh/V",
      "include_colab_link": true
    },
    "kernelspec": {
      "name": "python3",
      "display_name": "Python 3"
    },
    "language_info": {
      "name": "python"
    }
  },
  "cells": [
    {
      "cell_type": "markdown",
      "metadata": {
        "id": "view-in-github",
        "colab_type": "text"
      },
      "source": [
        "<a href=\"https://colab.research.google.com/github/GaboLara998/ProyectoIntegrador/blob/main/ProyectoIntregrador.ipynb\" target=\"_parent\"><img src=\"https://colab.research.google.com/assets/colab-badge.svg\" alt=\"Open In Colab\"/></a>"
      ]
    },
    {
      "cell_type": "markdown",
      "source": [
        "# Carga de Datos"
      ],
      "metadata": {
        "id": "3SApa2JBN0fK"
      }
    },
    {
      "cell_type": "code",
      "execution_count": null,
      "metadata": {
        "id": "Lfqdta_6qoZJ"
      },
      "outputs": [],
      "source": [
        "#Carga de Datasets\n",
        "import pandas as pd\n",
        "import seaborn as sns\n",
        "import warnings\n",
        "warnings.filterwarnings('ignore')\n",
        "import matplotlib.pyplot as plt\n",
        "#Normalizador MinMax\n",
        "from sklearn.preprocessing import MinMaxScaler\n",
        "from sklearn.preprocessing import LabelEncoder\n",
        "# Crea el normalizador\n",
        "scaler = MinMaxScaler()\n",
        "# Crea el codificador\n",
        "encoder = LabelEncoder()"
      ]
    },
    {
      "cell_type": "code",
      "source": [
        "#Funcion de cargar datasets\n",
        "def cargar_datos(url):\n",
        "    datos = pd.read_csv(url, encoding='latin1', skipinitialspace=True)\n",
        "    return datos\n",
        "\n",
        "# Función para codificar variables categóricas\n",
        "def codificar_variables_categoricas(datos, columnas_categoricas):\n",
        "    encoder = LabelEncoder()\n",
        "    for columna in columnas_categoricas:\n",
        "        datos[columna] = encoder.fit_transform(datos[columna])\n",
        "    return datos\n",
        "\n",
        "# Función para normalizar todas las características numéricas de un DataFrame\n",
        "def normalizar_caracteristicas(datos):\n",
        "    scaler = MinMaxScaler()\n",
        "    columnas_numericas = datos.select_dtypes(include=['float64', 'int64']).columns\n",
        "    datos[columnas_numericas] = scaler.fit_transform(datos[columnas_numericas])\n",
        "    return datos"
      ],
      "metadata": {
        "id": "iFN3Im3pn0Fu"
      },
      "execution_count": null,
      "outputs": []
    },
    {
      "cell_type": "code",
      "source": [
        "# URLs de los conjuntos de datos\n",
        "url_training = \"https://raw.githubusercontent.com/GaboLara998/ProyectoIntegrador/main/DataSet_UNSW_NB15/UNSW_NB15_training-set.csv?token=GHSAT0AAAAAACMBWAOFBU5CFZ67HIDC2XLOZO7JZMA\"\n",
        "url_testing = \"https://raw.githubusercontent.com/GaboLara998/ProyectoIntegrador/main/DataSet_UNSW_NB15/UNSW_NB15_testing-set.csv?token=GHSAT0AAAAAACMBWAOFEFKXDJN42NYN2ZDAZO7JXNA\"\n",
        "\n",
        "# Cargar los datos\n",
        "datos_training = cargar_datos(url_training)\n",
        "datos_testing = cargar_datos(url_testing)\n",
        "\n",
        "# Columnas categóricas\n",
        "columnas_categoricas = ['proto', 'service', 'state', 'attack_cat']\n",
        "\n",
        "# Codificar variables categóricas\n",
        "datos_training = codificar_variables_categoricas(datos_training, columnas_categoricas)\n",
        "datos_testing = codificar_variables_categoricas(datos_testing, columnas_categoricas)\n",
        "\n",
        "# Normalizar características\n",
        "datos_training = normalizar_caracteristicas(datos_training)\n",
        "datos_testing = normalizar_caracteristicas(datos_testing)\n"
      ],
      "metadata": {
        "id": "Q6966cs3E2IP"
      },
      "execution_count": null,
      "outputs": []
    },
    {
      "cell_type": "code",
      "source": [
        "print(datos_testing.describe())\n",
        "print(datos_testing.info())"
      ],
      "metadata": {
        "colab": {
          "base_uri": "https://localhost:8080/"
        },
        "id": "MbV1ynZ4oNeS",
        "outputId": "bf372f66-2770-4b11-a03a-e0ce8becf5e0"
      },
      "execution_count": null,
      "outputs": [
        {
          "output_type": "stream",
          "name": "stdout",
          "text": [
            "             ï»¿id           dur         proto       service         state  \\\n",
            "count  82332.00000  8.233200e+04  82332.000000  82332.000000  82332.000000   \n",
            "mean       0.50000  1.677927e-02      0.841141      0.118475      0.562459   \n",
            "std        0.28868  7.850742e-02      0.143364      0.175674      0.111729   \n",
            "min        0.00000  0.000000e+00      0.000000      0.000000      0.000000   \n",
            "25%        0.25000  1.333334e-07      0.853846      0.000000      0.500000   \n",
            "50%        0.50000  2.356334e-04      0.853846      0.000000      0.500000   \n",
            "75%        0.75000  1.198934e-02      0.900000      0.166667      0.666667   \n",
            "max        1.00000  1.000000e+00      1.000000      1.000000      1.000000   \n",
            "\n",
            "              spkts         dpkts        sbytes        dbytes          rate  \\\n",
            "count  82332.000000  82332.000000  82332.000000  82332.000000  82332.000000   \n",
            "mean       0.001660      0.001592      0.000555      0.000903      0.082411   \n",
            "std        0.012580      0.010490      0.011956      0.010334      0.148620   \n",
            "min        0.000000      0.000000      0.000000      0.000000      0.000000   \n",
            "25%        0.000094      0.000000      0.000006      0.000000      0.000029   \n",
            "50%        0.000470      0.000182      0.000036      0.000012      0.002650   \n",
            "75%        0.001033      0.000908      0.000087      0.000065      0.111111   \n",
            "max        1.000000      1.000000      1.000000      1.000000      1.000000   \n",
            "\n",
            "       ...  ct_dst_sport_ltm  ct_dst_src_ltm  is_ftp_login    ct_ftp_cmd  \\\n",
            "count  ...      82332.000000    82332.000000  82332.000000  82332.000000   \n",
            "mean   ...          0.071973        0.104135      0.004142      0.004190   \n",
            "std    ...          0.159875        0.184116      0.045586      0.046243   \n",
            "min    ...          0.000000        0.000000      0.000000      0.000000   \n",
            "25%    ...          0.000000        0.000000      0.000000      0.000000   \n",
            "50%    ...          0.000000        0.032258      0.000000      0.000000   \n",
            "75%    ...          0.054054        0.080645      0.000000      0.000000   \n",
            "max    ...          1.000000        1.000000      1.000000      1.000000   \n",
            "\n",
            "       ct_flw_http_mthd    ct_src_ltm    ct_srv_dst  is_sm_ips_ports  \\\n",
            "count      82332.000000  82332.000000  82332.000000     82332.000000   \n",
            "mean           0.008109      0.092684      0.133840         0.011126   \n",
            "std            0.039918      0.144812      0.182318         0.104891   \n",
            "min            0.000000      0.000000      0.000000         0.000000   \n",
            "25%            0.000000      0.000000      0.016393         0.000000   \n",
            "50%            0.000000      0.033898      0.065574         0.000000   \n",
            "75%            0.000000      0.101695      0.163934         0.000000   \n",
            "max            1.000000      1.000000      1.000000         1.000000   \n",
            "\n",
            "         attack_cat         label  \n",
            "count  82332.000000  82332.000000  \n",
            "mean       0.554195      0.550600  \n",
            "std        0.159060      0.497436  \n",
            "min        0.000000      0.000000  \n",
            "25%        0.444444      0.000000  \n",
            "50%        0.555556      1.000000  \n",
            "75%        0.666667      1.000000  \n",
            "max        1.000000      1.000000  \n",
            "\n",
            "[8 rows x 45 columns]\n",
            "<class 'pandas.core.frame.DataFrame'>\n",
            "RangeIndex: 82332 entries, 0 to 82331\n",
            "Data columns (total 45 columns):\n",
            " #   Column             Non-Null Count  Dtype  \n",
            "---  ------             --------------  -----  \n",
            " 0   ï»¿id              82332 non-null  float64\n",
            " 1   dur                82332 non-null  float64\n",
            " 2   proto              82332 non-null  float64\n",
            " 3   service            82332 non-null  float64\n",
            " 4   state              82332 non-null  float64\n",
            " 5   spkts              82332 non-null  float64\n",
            " 6   dpkts              82332 non-null  float64\n",
            " 7   sbytes             82332 non-null  float64\n",
            " 8   dbytes             82332 non-null  float64\n",
            " 9   rate               82332 non-null  float64\n",
            " 10  sttl               82332 non-null  float64\n",
            " 11  dttl               82332 non-null  float64\n",
            " 12  sload              82332 non-null  float64\n",
            " 13  dload              82332 non-null  float64\n",
            " 14  sloss              82332 non-null  float64\n",
            " 15  dloss              82332 non-null  float64\n",
            " 16  sinpkt             82332 non-null  float64\n",
            " 17  dinpkt             82332 non-null  float64\n",
            " 18  sjit               82332 non-null  float64\n",
            " 19  djit               82332 non-null  float64\n",
            " 20  swin               82332 non-null  float64\n",
            " 21  stcpb              82332 non-null  float64\n",
            " 22  dtcpb              82332 non-null  float64\n",
            " 23  dwin               82332 non-null  float64\n",
            " 24  tcprtt             82332 non-null  float64\n",
            " 25  synack             82332 non-null  float64\n",
            " 26  ackdat             82332 non-null  float64\n",
            " 27  smean              82332 non-null  float64\n",
            " 28  dmean              82332 non-null  float64\n",
            " 29  trans_depth        82332 non-null  float64\n",
            " 30  response_body_len  82332 non-null  float64\n",
            " 31  ct_srv_src         82332 non-null  float64\n",
            " 32  ct_state_ttl       82332 non-null  float64\n",
            " 33  ct_dst_ltm         82332 non-null  float64\n",
            " 34  ct_src_dport_ltm   82332 non-null  float64\n",
            " 35  ct_dst_sport_ltm   82332 non-null  float64\n",
            " 36  ct_dst_src_ltm     82332 non-null  float64\n",
            " 37  is_ftp_login       82332 non-null  float64\n",
            " 38  ct_ftp_cmd         82332 non-null  float64\n",
            " 39  ct_flw_http_mthd   82332 non-null  float64\n",
            " 40  ct_src_ltm         82332 non-null  float64\n",
            " 41  ct_srv_dst         82332 non-null  float64\n",
            " 42  is_sm_ips_ports    82332 non-null  float64\n",
            " 43  attack_cat         82332 non-null  float64\n",
            " 44  label              82332 non-null  float64\n",
            "dtypes: float64(45)\n",
            "memory usage: 28.3 MB\n",
            "None\n"
          ]
        }
      ]
    },
    {
      "cell_type": "code",
      "source": [
        "print(datos_training.describe())\n",
        "print(datos_training.info())"
      ],
      "metadata": {
        "colab": {
          "base_uri": "https://localhost:8080/"
        },
        "id": "zylPsB6PoXdZ",
        "outputId": "89ad5f04-770f-4e5c-b2f5-6ad1bae63ff0"
      },
      "execution_count": null,
      "outputs": [
        {
          "output_type": "stream",
          "name": "stdout",
          "text": [
            "               ï»¿id           dur          proto        service  \\\n",
            "count  175341.000000  1.753410e+05  175341.000000  175341.000000   \n",
            "mean        0.500000  2.265648e-02       0.830354       0.134910   \n",
            "std         0.288678  1.080042e-01       0.169338       0.192096   \n",
            "min         0.000000  0.000000e+00       0.000000       0.000000   \n",
            "25%         0.250000  1.333334e-07       0.856061       0.000000   \n",
            "50%         0.500000  2.636667e-05       0.856061       0.000000   \n",
            "75%         0.750000  1.113449e-02       0.901515       0.166667   \n",
            "max         1.000000  1.000000e+00       1.000000       1.000000   \n",
            "\n",
            "               state          spkts          dpkts         sbytes  \\\n",
            "count  175341.000000  175341.000000  175341.000000  175341.000000   \n",
            "mean        0.294397       0.002007       0.001729       0.000680   \n",
            "std         0.108493       0.014237       0.010047       0.013480   \n",
            "min         0.000000       0.000000       0.000000       0.000000   \n",
            "25%         0.250000       0.000104       0.000000       0.000007   \n",
            "50%         0.250000       0.000104       0.000182       0.000031   \n",
            "75%         0.375000       0.001144       0.000911       0.000107   \n",
            "max         1.000000       1.000000       1.000000       1.000000   \n",
            "\n",
            "              dbytes           rate  ...  ct_dst_sport_ltm  ct_dst_src_ltm  \\\n",
            "count  175341.000000  175341.000000  ...     175341.000000   175341.000000   \n",
            "mean        0.001019       0.095406  ...          0.071250        0.120779   \n",
            "std         0.009802       0.165401  ...          0.128524        0.171190   \n",
            "min         0.000000       0.000000  ...          0.000000        0.000000   \n",
            "25%         0.000000       0.000033  ...          0.000000        0.000000   \n",
            "50%         0.000011       0.003226  ...          0.000000        0.031250   \n",
            "75%         0.000075       0.125000  ...          0.044444        0.171875   \n",
            "max         1.000000       1.000000  ...          1.000000        1.000000   \n",
            "\n",
            "        is_ftp_login     ct_ftp_cmd  ct_flw_http_mthd     ct_src_ltm  \\\n",
            "count  175341.000000  175341.000000     175341.000000  175341.000000   \n",
            "mean        0.003737       0.003737          0.004436       0.100946   \n",
            "std         0.031512       0.031512          0.023374       0.141042   \n",
            "min         0.000000       0.000000          0.000000       0.000000   \n",
            "25%         0.000000       0.000000          0.000000       0.016949   \n",
            "50%         0.000000       0.000000          0.000000       0.033898   \n",
            "75%         0.000000       0.000000          0.000000       0.135593   \n",
            "max         1.000000       1.000000          1.000000       1.000000   \n",
            "\n",
            "          ct_srv_dst  is_sm_ips_ports     attack_cat          label  \n",
            "count  175341.000000    175341.000000  175341.000000  175341.000000  \n",
            "mean        0.132799         0.015752       0.518900       0.680622  \n",
            "std         0.176343         0.124516       0.174249       0.466237  \n",
            "min         0.000000         0.000000       0.000000       0.000000  \n",
            "25%         0.016393         0.000000       0.333333       0.000000  \n",
            "50%         0.049180         0.000000       0.555556       1.000000  \n",
            "75%         0.180328         0.000000       0.666667       1.000000  \n",
            "max         1.000000         1.000000       1.000000       1.000000  \n",
            "\n",
            "[8 rows x 45 columns]\n",
            "<class 'pandas.core.frame.DataFrame'>\n",
            "RangeIndex: 175341 entries, 0 to 175340\n",
            "Data columns (total 45 columns):\n",
            " #   Column             Non-Null Count   Dtype  \n",
            "---  ------             --------------   -----  \n",
            " 0   ï»¿id              175341 non-null  float64\n",
            " 1   dur                175341 non-null  float64\n",
            " 2   proto              175341 non-null  float64\n",
            " 3   service            175341 non-null  float64\n",
            " 4   state              175341 non-null  float64\n",
            " 5   spkts              175341 non-null  float64\n",
            " 6   dpkts              175341 non-null  float64\n",
            " 7   sbytes             175341 non-null  float64\n",
            " 8   dbytes             175341 non-null  float64\n",
            " 9   rate               175341 non-null  float64\n",
            " 10  sttl               175341 non-null  float64\n",
            " 11  dttl               175341 non-null  float64\n",
            " 12  sload              175341 non-null  float64\n",
            " 13  dload              175341 non-null  float64\n",
            " 14  sloss              175341 non-null  float64\n",
            " 15  dloss              175341 non-null  float64\n",
            " 16  sinpkt             175341 non-null  float64\n",
            " 17  dinpkt             175341 non-null  float64\n",
            " 18  sjit               175341 non-null  float64\n",
            " 19  djit               175341 non-null  float64\n",
            " 20  swin               175341 non-null  float64\n",
            " 21  stcpb              175341 non-null  float64\n",
            " 22  dtcpb              175341 non-null  float64\n",
            " 23  dwin               175341 non-null  float64\n",
            " 24  tcprtt             175341 non-null  float64\n",
            " 25  synack             175341 non-null  float64\n",
            " 26  ackdat             175341 non-null  float64\n",
            " 27  smean              175341 non-null  float64\n",
            " 28  dmean              175341 non-null  float64\n",
            " 29  trans_depth        175341 non-null  float64\n",
            " 30  response_body_len  175341 non-null  float64\n",
            " 31  ct_srv_src         175341 non-null  float64\n",
            " 32  ct_state_ttl       175341 non-null  float64\n",
            " 33  ct_dst_ltm         175341 non-null  float64\n",
            " 34  ct_src_dport_ltm   175341 non-null  float64\n",
            " 35  ct_dst_sport_ltm   175341 non-null  float64\n",
            " 36  ct_dst_src_ltm     175341 non-null  float64\n",
            " 37  is_ftp_login       175341 non-null  float64\n",
            " 38  ct_ftp_cmd         175341 non-null  float64\n",
            " 39  ct_flw_http_mthd   175341 non-null  float64\n",
            " 40  ct_src_ltm         175341 non-null  float64\n",
            " 41  ct_srv_dst         175341 non-null  float64\n",
            " 42  is_sm_ips_ports    175341 non-null  float64\n",
            " 43  attack_cat         175341 non-null  float64\n",
            " 44  label              175341 non-null  float64\n",
            "dtypes: float64(45)\n",
            "memory usage: 60.2 MB\n",
            "None\n"
          ]
        }
      ]
    },
    {
      "cell_type": "markdown",
      "source": [
        "# Implementación de Algoritmos"
      ],
      "metadata": {
        "id": "Q_1l-r43NtPg"
      }
    },
    {
      "cell_type": "code",
      "source": [
        "import tensorflow as tf\n",
        "from tensorflow.keras.models import Model\n",
        "from tensorflow.keras.layers import Input, Dense\n",
        "\n",
        "def entrenar_autoencoder(features, dimensiones_intermedias=[32, 16], epochs=50, batch_size=256):\n",
        "    \"\"\"\n",
        "    Entrena un autoencoder y devuelve el modelo junto con el encoder.\n",
        "\n",
        "    Args:\n",
        "    - features: Características de entrada para entrenar el autoencoder.\n",
        "    - dimensiones_intermedias: Lista de enteros que define las dimensiones de las capas intermedias.\n",
        "    - epochs: Número de épocas para entrenar el autoencoder.\n",
        "    - batch_size: Tamaño del lote para el entrenamiento.\n",
        "\n",
        "    Returns:\n",
        "    - autoencoder: Modelo de autoencoder entrenado.\n",
        "    - encoder: Parte del encoder del autoencoder para la reducción de la dimensionalidad.\n",
        "    \"\"\"\n",
        "    input_dim = features.shape[1]\n",
        "    input_layer = Input(shape=(input_dim,))\n",
        "    encoder_layer = input_layer\n",
        "    for dim in dimensiones_intermedias:\n",
        "        encoder_layer = Dense(dim, activation=\"relu\")(encoder_layer)\n",
        "    decoder_layer = Dense(dimensiones_intermedias[-2], activation=\"relu\")(encoder_layer)\n",
        "    for dim in reversed(dimensiones_intermedias[:-1]):\n",
        "        decoder_layer = Dense(dim, activation=\"relu\")(decoder_layer)\n",
        "    decoder_layer = Dense(input_dim, activation=\"sigmoid\")(decoder_layer)\n",
        "\n",
        "    autoencoder = Model(input_layer, decoder_layer)\n",
        "    autoencoder.compile(optimizer='adam', loss='mean_squared_error')\n",
        "    autoencoder.fit(features, features, epochs=epochs, batch_size=batch_size, shuffle=True, validation_split=0.2)\n",
        "\n",
        "    encoder = Model(input_layer, encoder_layer)\n",
        "    return autoencoder, encoder\n",
        "\n",
        "def transformar_con_autoencoder(encoder, features):\n",
        "    \"\"\"\n",
        "    Transforma las características utilizando el encoder de un autoencoder entrenado.\n",
        "\n",
        "    Args:\n",
        "    - encoder: El encoder de un autoencoder.\n",
        "    - features: Características a transformar.\n",
        "\n",
        "    Returns:\n",
        "    - Características transformadas.\n",
        "    \"\"\"\n",
        "    return encoder.predict(features)"
      ],
      "metadata": {
        "id": "IaTtfoA5rBYT"
      },
      "execution_count": null,
      "outputs": []
    },
    {
      "cell_type": "code",
      "source": [
        "from sklearn.ensemble import IsolationForest\n",
        "from sklearn.svm import OneClassSVM\n",
        "\n",
        "# No considerarar la columna de etiquetas antes de entrenar el autoencoder\n",
        "features_training = datos_training.drop(columns=['label'], errors='ignore')\n",
        "features_testing = datos_testing.drop(columns=['label'], errors='ignore')\n",
        "\n",
        "# Entrenamiento y transformación con Autoencoder\n",
        "# Asegúrate de convertir DataFrame a numpy array si tu función esperar explícitamente numpy arrays\n",
        "autoencoder, encoder = entrenar_autoencoder(features_training.to_numpy())\n",
        "features_training_reduced = transformar_con_autoencoder(encoder, features_training.to_numpy())\n",
        "features_testing_reduced = transformar_con_autoencoder(encoder, features_testing.to_numpy())\n",
        "\n",
        "# Entrenamiento de Isolation Forest y One-Class SVM con características reducidas\n",
        "isolation_forest = IsolationForest(n_estimators=100, contamination='auto', random_state=42)\n",
        "isolation_forest.fit(features_training_reduced)\n",
        "\n",
        "one_class_svm = OneClassSVM(kernel='rbf', gamma='auto')\n",
        "one_class_svm.fit(features_training_reduced)"
      ],
      "metadata": {
        "colab": {
          "base_uri": "https://localhost:8080/",
          "height": 1000
        },
        "id": "2-Tl8l9p4f8d",
        "outputId": "0d8da8ee-245e-49d1-fbdb-a70cbf74a1e5"
      },
      "execution_count": null,
      "outputs": [
        {
          "output_type": "stream",
          "name": "stdout",
          "text": [
            "Epoch 1/50\n",
            "548/548 [==============================] - 2s 2ms/step - loss: 0.0262 - val_loss: 0.0065\n",
            "Epoch 2/50\n",
            "548/548 [==============================] - 1s 2ms/step - loss: 0.0037 - val_loss: 0.0040\n",
            "Epoch 3/50\n",
            "548/548 [==============================] - 1s 2ms/step - loss: 0.0025 - val_loss: 0.0034\n",
            "Epoch 4/50\n",
            "548/548 [==============================] - 1s 2ms/step - loss: 0.0021 - val_loss: 0.0031\n",
            "Epoch 5/50\n",
            "548/548 [==============================] - 1s 2ms/step - loss: 0.0019 - val_loss: 0.0031\n",
            "Epoch 6/50\n",
            "548/548 [==============================] - 1s 2ms/step - loss: 0.0017 - val_loss: 0.0026\n",
            "Epoch 7/50\n",
            "548/548 [==============================] - 1s 2ms/step - loss: 0.0016 - val_loss: 0.0025\n",
            "Epoch 8/50\n",
            "548/548 [==============================] - 1s 2ms/step - loss: 0.0016 - val_loss: 0.0025\n",
            "Epoch 9/50\n",
            "548/548 [==============================] - 1s 2ms/step - loss: 0.0011 - val_loss: 0.0010\n",
            "Epoch 10/50\n",
            "548/548 [==============================] - 1s 2ms/step - loss: 9.1756e-04 - val_loss: 9.3567e-04\n",
            "Epoch 11/50\n",
            "548/548 [==============================] - 1s 2ms/step - loss: 8.2789e-04 - val_loss: 0.0010\n",
            "Epoch 12/50\n",
            "548/548 [==============================] - 1s 2ms/step - loss: 7.8178e-04 - val_loss: 9.1654e-04\n",
            "Epoch 13/50\n",
            "548/548 [==============================] - 1s 2ms/step - loss: 7.6032e-04 - val_loss: 8.8502e-04\n",
            "Epoch 14/50\n",
            "548/548 [==============================] - 1s 2ms/step - loss: 7.4505e-04 - val_loss: 8.4503e-04\n",
            "Epoch 15/50\n",
            "548/548 [==============================] - 1s 2ms/step - loss: 7.3233e-04 - val_loss: 8.1800e-04\n",
            "Epoch 16/50\n",
            "548/548 [==============================] - 1s 2ms/step - loss: 7.2224e-04 - val_loss: 8.0624e-04\n",
            "Epoch 17/50\n",
            "548/548 [==============================] - 1s 2ms/step - loss: 6.9125e-04 - val_loss: 8.3523e-04\n",
            "Epoch 18/50\n",
            "548/548 [==============================] - 1s 2ms/step - loss: 6.7162e-04 - val_loss: 7.9031e-04\n",
            "Epoch 19/50\n",
            "548/548 [==============================] - 1s 2ms/step - loss: 6.5741e-04 - val_loss: 8.0416e-04\n",
            "Epoch 20/50\n",
            "548/548 [==============================] - 1s 2ms/step - loss: 6.4388e-04 - val_loss: 7.8804e-04\n",
            "Epoch 21/50\n",
            "548/548 [==============================] - 1s 2ms/step - loss: 6.3361e-04 - val_loss: 7.9577e-04\n",
            "Epoch 22/50\n",
            "548/548 [==============================] - 1s 2ms/step - loss: 6.2657e-04 - val_loss: 7.8098e-04\n",
            "Epoch 23/50\n",
            "548/548 [==============================] - 1s 2ms/step - loss: 6.2162e-04 - val_loss: 7.7248e-04\n",
            "Epoch 24/50\n",
            "548/548 [==============================] - 1s 2ms/step - loss: 6.1712e-04 - val_loss: 7.7880e-04\n",
            "Epoch 25/50\n",
            "548/548 [==============================] - 1s 2ms/step - loss: 6.1296e-04 - val_loss: 7.7088e-04\n",
            "Epoch 26/50\n",
            "548/548 [==============================] - 1s 1ms/step - loss: 6.0916e-04 - val_loss: 7.8689e-04\n",
            "Epoch 27/50\n",
            "548/548 [==============================] - 1s 2ms/step - loss: 5.9987e-04 - val_loss: 7.7109e-04\n",
            "Epoch 28/50\n",
            "548/548 [==============================] - 1s 2ms/step - loss: 5.8211e-04 - val_loss: 7.6479e-04\n",
            "Epoch 29/50\n",
            "548/548 [==============================] - 1s 2ms/step - loss: 5.7722e-04 - val_loss: 7.7040e-04\n",
            "Epoch 30/50\n",
            "548/548 [==============================] - 1s 2ms/step - loss: 5.7217e-04 - val_loss: 7.6046e-04\n",
            "Epoch 31/50\n",
            "548/548 [==============================] - 1s 2ms/step - loss: 5.6641e-04 - val_loss: 7.7536e-04\n",
            "Epoch 32/50\n",
            "548/548 [==============================] - 1s 2ms/step - loss: 5.4471e-04 - val_loss: 7.4335e-04\n",
            "Epoch 33/50\n",
            "548/548 [==============================] - 1s 2ms/step - loss: 5.3011e-04 - val_loss: 7.5495e-04\n",
            "Epoch 34/50\n",
            "548/548 [==============================] - 1s 2ms/step - loss: 5.2101e-04 - val_loss: 7.4035e-04\n",
            "Epoch 35/50\n",
            "548/548 [==============================] - 1s 2ms/step - loss: 5.1179e-04 - val_loss: 7.3341e-04\n",
            "Epoch 36/50\n",
            "548/548 [==============================] - 1s 2ms/step - loss: 5.0520e-04 - val_loss: 7.3371e-04\n",
            "Epoch 37/50\n",
            "548/548 [==============================] - 1s 2ms/step - loss: 5.0121e-04 - val_loss: 7.2057e-04\n",
            "Epoch 38/50\n",
            "548/548 [==============================] - 1s 1ms/step - loss: 4.9705e-04 - val_loss: 7.2660e-04\n",
            "Epoch 39/50\n",
            "548/548 [==============================] - 1s 2ms/step - loss: 4.9441e-04 - val_loss: 7.1926e-04\n",
            "Epoch 40/50\n",
            "548/548 [==============================] - 1s 2ms/step - loss: 4.8252e-04 - val_loss: 7.0957e-04\n",
            "Epoch 41/50\n",
            "548/548 [==============================] - 1s 2ms/step - loss: 4.6412e-04 - val_loss: 7.1880e-04\n",
            "Epoch 42/50\n",
            "548/548 [==============================] - 1s 2ms/step - loss: 4.6045e-04 - val_loss: 7.0456e-04\n",
            "Epoch 43/50\n",
            "548/548 [==============================] - 1s 2ms/step - loss: 4.5618e-04 - val_loss: 7.2087e-04\n",
            "Epoch 44/50\n",
            "548/548 [==============================] - 1s 2ms/step - loss: 4.5221e-04 - val_loss: 7.1197e-04\n",
            "Epoch 45/50\n",
            "548/548 [==============================] - 1s 2ms/step - loss: 4.5028e-04 - val_loss: 7.0965e-04\n",
            "Epoch 46/50\n",
            "548/548 [==============================] - 1s 1ms/step - loss: 4.4769e-04 - val_loss: 7.1504e-04\n",
            "Epoch 47/50\n",
            "548/548 [==============================] - 1s 2ms/step - loss: 4.4289e-04 - val_loss: 7.0510e-04\n",
            "Epoch 48/50\n",
            "548/548 [==============================] - 1s 2ms/step - loss: 4.2800e-04 - val_loss: 6.8751e-04\n",
            "Epoch 49/50\n",
            "548/548 [==============================] - 1s 2ms/step - loss: 4.1433e-04 - val_loss: 6.9255e-04\n",
            "Epoch 50/50\n",
            "548/548 [==============================] - 1s 1ms/step - loss: 4.1150e-04 - val_loss: 7.0196e-04\n",
            "5480/5480 [==============================] - 5s 821us/step\n",
            "2573/2573 [==============================] - 2s 790us/step\n"
          ]
        },
        {
          "output_type": "execute_result",
          "data": {
            "text/plain": [
              "OneClassSVM(gamma='auto')"
            ],
            "text/html": [
              "<style>#sk-container-id-1 {color: black;background-color: white;}#sk-container-id-1 pre{padding: 0;}#sk-container-id-1 div.sk-toggleable {background-color: white;}#sk-container-id-1 label.sk-toggleable__label {cursor: pointer;display: block;width: 100%;margin-bottom: 0;padding: 0.3em;box-sizing: border-box;text-align: center;}#sk-container-id-1 label.sk-toggleable__label-arrow:before {content: \"▸\";float: left;margin-right: 0.25em;color: #696969;}#sk-container-id-1 label.sk-toggleable__label-arrow:hover:before {color: black;}#sk-container-id-1 div.sk-estimator:hover label.sk-toggleable__label-arrow:before {color: black;}#sk-container-id-1 div.sk-toggleable__content {max-height: 0;max-width: 0;overflow: hidden;text-align: left;background-color: #f0f8ff;}#sk-container-id-1 div.sk-toggleable__content pre {margin: 0.2em;color: black;border-radius: 0.25em;background-color: #f0f8ff;}#sk-container-id-1 input.sk-toggleable__control:checked~div.sk-toggleable__content {max-height: 200px;max-width: 100%;overflow: auto;}#sk-container-id-1 input.sk-toggleable__control:checked~label.sk-toggleable__label-arrow:before {content: \"▾\";}#sk-container-id-1 div.sk-estimator input.sk-toggleable__control:checked~label.sk-toggleable__label {background-color: #d4ebff;}#sk-container-id-1 div.sk-label input.sk-toggleable__control:checked~label.sk-toggleable__label {background-color: #d4ebff;}#sk-container-id-1 input.sk-hidden--visually {border: 0;clip: rect(1px 1px 1px 1px);clip: rect(1px, 1px, 1px, 1px);height: 1px;margin: -1px;overflow: hidden;padding: 0;position: absolute;width: 1px;}#sk-container-id-1 div.sk-estimator {font-family: monospace;background-color: #f0f8ff;border: 1px dotted black;border-radius: 0.25em;box-sizing: border-box;margin-bottom: 0.5em;}#sk-container-id-1 div.sk-estimator:hover {background-color: #d4ebff;}#sk-container-id-1 div.sk-parallel-item::after {content: \"\";width: 100%;border-bottom: 1px solid gray;flex-grow: 1;}#sk-container-id-1 div.sk-label:hover label.sk-toggleable__label {background-color: #d4ebff;}#sk-container-id-1 div.sk-serial::before {content: \"\";position: absolute;border-left: 1px solid gray;box-sizing: border-box;top: 0;bottom: 0;left: 50%;z-index: 0;}#sk-container-id-1 div.sk-serial {display: flex;flex-direction: column;align-items: center;background-color: white;padding-right: 0.2em;padding-left: 0.2em;position: relative;}#sk-container-id-1 div.sk-item {position: relative;z-index: 1;}#sk-container-id-1 div.sk-parallel {display: flex;align-items: stretch;justify-content: center;background-color: white;position: relative;}#sk-container-id-1 div.sk-item::before, #sk-container-id-1 div.sk-parallel-item::before {content: \"\";position: absolute;border-left: 1px solid gray;box-sizing: border-box;top: 0;bottom: 0;left: 50%;z-index: -1;}#sk-container-id-1 div.sk-parallel-item {display: flex;flex-direction: column;z-index: 1;position: relative;background-color: white;}#sk-container-id-1 div.sk-parallel-item:first-child::after {align-self: flex-end;width: 50%;}#sk-container-id-1 div.sk-parallel-item:last-child::after {align-self: flex-start;width: 50%;}#sk-container-id-1 div.sk-parallel-item:only-child::after {width: 0;}#sk-container-id-1 div.sk-dashed-wrapped {border: 1px dashed gray;margin: 0 0.4em 0.5em 0.4em;box-sizing: border-box;padding-bottom: 0.4em;background-color: white;}#sk-container-id-1 div.sk-label label {font-family: monospace;font-weight: bold;display: inline-block;line-height: 1.2em;}#sk-container-id-1 div.sk-label-container {text-align: center;}#sk-container-id-1 div.sk-container {/* jupyter's `normalize.less` sets `[hidden] { display: none; }` but bootstrap.min.css set `[hidden] { display: none !important; }` so we also need the `!important` here to be able to override the default hidden behavior on the sphinx rendered scikit-learn.org. See: https://github.com/scikit-learn/scikit-learn/issues/21755 */display: inline-block !important;position: relative;}#sk-container-id-1 div.sk-text-repr-fallback {display: none;}</style><div id=\"sk-container-id-1\" class=\"sk-top-container\"><div class=\"sk-text-repr-fallback\"><pre>OneClassSVM(gamma=&#x27;auto&#x27;)</pre><b>In a Jupyter environment, please rerun this cell to show the HTML representation or trust the notebook. <br />On GitHub, the HTML representation is unable to render, please try loading this page with nbviewer.org.</b></div><div class=\"sk-container\" hidden><div class=\"sk-item\"><div class=\"sk-estimator sk-toggleable\"><input class=\"sk-toggleable__control sk-hidden--visually\" id=\"sk-estimator-id-1\" type=\"checkbox\" checked><label for=\"sk-estimator-id-1\" class=\"sk-toggleable__label sk-toggleable__label-arrow\">OneClassSVM</label><div class=\"sk-toggleable__content\"><pre>OneClassSVM(gamma=&#x27;auto&#x27;)</pre></div></div></div></div></div>"
            ]
          },
          "metadata": {},
          "execution_count": 22
        }
      ]
    },
    {
      "cell_type": "markdown",
      "source": [
        "# Preprocesamiento de Datos"
      ],
      "metadata": {
        "id": "VPUryMfLXXdC"
      }
    },
    {
      "cell_type": "code",
      "source": [
        "#Isolation Forest\n",
        "from sklearn.ensemble import IsolationForest\n",
        "\n",
        "# Instancia del modelo Isolation Forest\n",
        "isolation_forest = IsolationForest(n_estimators=100, contamination='auto', random_state=42)\n",
        "\n",
        "# Entrenamiento del modelo con los datos de entrenamiento (sin incluir la etiqueta)\n",
        "# Asumiendo que 'label' es la columna de etiquetas y ha sido removida de features_training_normalized\n",
        "isolation_forest.fit(datos_training)\n",
        "\n",
        "\n",
        "#OneClassSVM\n",
        "from sklearn.svm import OneClassSVM\n",
        "\n",
        "# Instancia del modelo One-Class SVM\n",
        "one_class_svm = OneClassSVM(kernel='rbf', gamma='auto')\n",
        "\n",
        "# Entrenamiento del modelo con los datos de entrenamiento\n",
        "one_class_svm.fit(datos_training)"
      ],
      "metadata": {
        "colab": {
          "base_uri": "https://localhost:8080/",
          "height": 74
        },
        "id": "hhL14ejYNqox",
        "outputId": "b0284081-a8fc-4c39-bf12-76fda5d647b7"
      },
      "execution_count": null,
      "outputs": [
        {
          "output_type": "execute_result",
          "data": {
            "text/plain": [
              "OneClassSVM(gamma='auto')"
            ],
            "text/html": [
              "<style>#sk-container-id-2 {color: black;background-color: white;}#sk-container-id-2 pre{padding: 0;}#sk-container-id-2 div.sk-toggleable {background-color: white;}#sk-container-id-2 label.sk-toggleable__label {cursor: pointer;display: block;width: 100%;margin-bottom: 0;padding: 0.3em;box-sizing: border-box;text-align: center;}#sk-container-id-2 label.sk-toggleable__label-arrow:before {content: \"▸\";float: left;margin-right: 0.25em;color: #696969;}#sk-container-id-2 label.sk-toggleable__label-arrow:hover:before {color: black;}#sk-container-id-2 div.sk-estimator:hover label.sk-toggleable__label-arrow:before {color: black;}#sk-container-id-2 div.sk-toggleable__content {max-height: 0;max-width: 0;overflow: hidden;text-align: left;background-color: #f0f8ff;}#sk-container-id-2 div.sk-toggleable__content pre {margin: 0.2em;color: black;border-radius: 0.25em;background-color: #f0f8ff;}#sk-container-id-2 input.sk-toggleable__control:checked~div.sk-toggleable__content {max-height: 200px;max-width: 100%;overflow: auto;}#sk-container-id-2 input.sk-toggleable__control:checked~label.sk-toggleable__label-arrow:before {content: \"▾\";}#sk-container-id-2 div.sk-estimator input.sk-toggleable__control:checked~label.sk-toggleable__label {background-color: #d4ebff;}#sk-container-id-2 div.sk-label input.sk-toggleable__control:checked~label.sk-toggleable__label {background-color: #d4ebff;}#sk-container-id-2 input.sk-hidden--visually {border: 0;clip: rect(1px 1px 1px 1px);clip: rect(1px, 1px, 1px, 1px);height: 1px;margin: -1px;overflow: hidden;padding: 0;position: absolute;width: 1px;}#sk-container-id-2 div.sk-estimator {font-family: monospace;background-color: #f0f8ff;border: 1px dotted black;border-radius: 0.25em;box-sizing: border-box;margin-bottom: 0.5em;}#sk-container-id-2 div.sk-estimator:hover {background-color: #d4ebff;}#sk-container-id-2 div.sk-parallel-item::after {content: \"\";width: 100%;border-bottom: 1px solid gray;flex-grow: 1;}#sk-container-id-2 div.sk-label:hover label.sk-toggleable__label {background-color: #d4ebff;}#sk-container-id-2 div.sk-serial::before {content: \"\";position: absolute;border-left: 1px solid gray;box-sizing: border-box;top: 0;bottom: 0;left: 50%;z-index: 0;}#sk-container-id-2 div.sk-serial {display: flex;flex-direction: column;align-items: center;background-color: white;padding-right: 0.2em;padding-left: 0.2em;position: relative;}#sk-container-id-2 div.sk-item {position: relative;z-index: 1;}#sk-container-id-2 div.sk-parallel {display: flex;align-items: stretch;justify-content: center;background-color: white;position: relative;}#sk-container-id-2 div.sk-item::before, #sk-container-id-2 div.sk-parallel-item::before {content: \"\";position: absolute;border-left: 1px solid gray;box-sizing: border-box;top: 0;bottom: 0;left: 50%;z-index: -1;}#sk-container-id-2 div.sk-parallel-item {display: flex;flex-direction: column;z-index: 1;position: relative;background-color: white;}#sk-container-id-2 div.sk-parallel-item:first-child::after {align-self: flex-end;width: 50%;}#sk-container-id-2 div.sk-parallel-item:last-child::after {align-self: flex-start;width: 50%;}#sk-container-id-2 div.sk-parallel-item:only-child::after {width: 0;}#sk-container-id-2 div.sk-dashed-wrapped {border: 1px dashed gray;margin: 0 0.4em 0.5em 0.4em;box-sizing: border-box;padding-bottom: 0.4em;background-color: white;}#sk-container-id-2 div.sk-label label {font-family: monospace;font-weight: bold;display: inline-block;line-height: 1.2em;}#sk-container-id-2 div.sk-label-container {text-align: center;}#sk-container-id-2 div.sk-container {/* jupyter's `normalize.less` sets `[hidden] { display: none; }` but bootstrap.min.css set `[hidden] { display: none !important; }` so we also need the `!important` here to be able to override the default hidden behavior on the sphinx rendered scikit-learn.org. See: https://github.com/scikit-learn/scikit-learn/issues/21755 */display: inline-block !important;position: relative;}#sk-container-id-2 div.sk-text-repr-fallback {display: none;}</style><div id=\"sk-container-id-2\" class=\"sk-top-container\"><div class=\"sk-text-repr-fallback\"><pre>OneClassSVM(gamma=&#x27;auto&#x27;)</pre><b>In a Jupyter environment, please rerun this cell to show the HTML representation or trust the notebook. <br />On GitHub, the HTML representation is unable to render, please try loading this page with nbviewer.org.</b></div><div class=\"sk-container\" hidden><div class=\"sk-item\"><div class=\"sk-estimator sk-toggleable\"><input class=\"sk-toggleable__control sk-hidden--visually\" id=\"sk-estimator-id-2\" type=\"checkbox\" checked><label for=\"sk-estimator-id-2\" class=\"sk-toggleable__label sk-toggleable__label-arrow\">OneClassSVM</label><div class=\"sk-toggleable__content\"><pre>OneClassSVM(gamma=&#x27;auto&#x27;)</pre></div></div></div></div></div>"
            ]
          },
          "metadata": {},
          "execution_count": 9
        }
      ]
    },
    {
      "cell_type": "code",
      "source": [
        "import numpy as np\n",
        "from sklearn.metrics import precision_score, recall_score, f1_score, roc_auc_score, roc_curve\n",
        "from sklearn.preprocessing import label_binarize\n",
        "\n",
        "# Asegurarse de que las etiquetas verdaderas estén en el formato correcto (0 para normal, 1 para anomalía)\n",
        "labels_testing = datos_testing['label'].copy()\n",
        "labels_testing_binarized = label_binarize(labels_testing, classes=[0, 1]).ravel()\n",
        "\n",
        "# Obtener predicciones de los modelos\n",
        "predictions_isolation_forest = isolation_forest.predict(features_testing_reduced)\n",
        "predictions_one_class_svm = one_class_svm.predict(features_testing_reduced)\n",
        "\n",
        "# Convertir las predicciones de -1, 1 a 0, 1\n",
        "predictions_isolation_forest_binarized = (predictions_isolation_forest < 0).astype(int)\n",
        "predictions_one_class_svm_binarized = (predictions_one_class_svm < 0).astype(int)\n",
        "\n",
        "\n",
        "# Precisión, Recall y F1-score para Isolation Forest\n",
        "precision_if = precision_score(labels_testing_binarized, predictions_isolation_forest_binarized)\n",
        "recall_if = recall_score(labels_testing_binarized, predictions_isolation_forest_binarized)\n",
        "f1_score_if = f1_score(labels_testing_binarized, predictions_isolation_forest_binarized)\n",
        "\n",
        "# Precisión, Recall y F1-score para One-Class SVM\n",
        "precision_svm = precision_score(labels_testing_binarized, predictions_one_class_svm_binarized)\n",
        "recall_svm = recall_score(labels_testing_binarized, predictions_one_class_svm_binarized)\n",
        "f1_score_svm = f1_score(labels_testing_binarized, predictions_one_class_svm_binarized)\n",
        "\n",
        "print(f\"Isolation Forest - Precisión: {precision_if}, Recall: {recall_if}, F1-Score: {f1_score_if}\")\n",
        "print(f\"One-Class SVM - Precisión: {precision_svm}, Recall: {recall_svm}, F1-Score: {f1_score_svm}\")\n",
        "\n"
      ],
      "metadata": {
        "colab": {
          "base_uri": "https://localhost:8080/"
        },
        "id": "q_iAvvV_XkzH",
        "outputId": "cace1f33-ab06-4d6d-df09-84445ecb3de7"
      },
      "execution_count": null,
      "outputs": [
        {
          "output_type": "stream",
          "name": "stdout",
          "text": [
            "Isolation Forest - Precisión: 0.4390050801609817, Recall: 0.1467837289332039, F1-Score: 0.22000694341119872\n",
            "One-Class SVM - Precisión: 0.5857893427843064, Recall: 0.8313112150357364, F1-Score: 0.6872811496936096\n"
          ]
        }
      ]
    },
    {
      "cell_type": "code",
      "source": [
        "# Revisar balanceo de datos\n",
        "# Random Forest y normalizacion de datos\n",
        "# seleccion de mejores caracteristicas\n",
        "# extraer las caracteristicas\n",
        "# Comparar efectividad"
      ],
      "metadata": {
        "id": "W427T-miE_-N"
      },
      "execution_count": null,
      "outputs": []
    },
    {
      "cell_type": "code",
      "source": [],
      "metadata": {
        "id": "ZvvbFEFqA2HB"
      },
      "execution_count": null,
      "outputs": []
    }
  ]
}